{
 "cells": [
  {
   "cell_type": "markdown",
   "id": "40913c9e",
   "metadata": {},
   "source": [
    "# Исследование надежности заемщиков"
   ]
  },
  {
   "cell_type": "markdown",
   "id": "19155557",
   "metadata": {},
   "source": [
    "<font color='Blue' size=+2><b>Цель исследования:</b></font><br>\n",
    "<font color='Blue'><b>**Заказчиком данной работы является кредитный отдел банка. Поставлена задача определения доли неблагонадежных должников в зависимости от их принадлежности к различным группам. Изучаются зависимости применительно к таким группам как: семейное положение, количество детей в семье, уровень дохода и цели получения кредита. Входные данные от банка — статистика о платёжеспособности клиентов. Результаты исследования будут учтены при построении модели кредитного скоринга — специальной системы, которая оценивает способность потенциального заёмщика вернуть кредит банку.**</b></font>"
   ]
  },
  {
   "cell_type": "markdown",
   "id": "15a52bc2",
   "metadata": {},
   "source": [
    "<font color='Blue'><b>**Откроем таблицу и изучим предоставленную информацю. Предварительно загрузим необходимые для исследования библиотеки.**</b></font>"
   ]
  },
  {
   "cell_type": "markdown",
   "id": "04725ccd",
   "metadata": {},
   "source": [
    "## Откройте таблицу и изучите общую информацию о данных"
   ]
  },
  {
   "cell_type": "markdown",
   "id": "339a64d7",
   "metadata": {},
   "source": [
    "**Задание 1. Импортируйте библиотеку pandas. Считайте данные из csv-файла в датафрейм и сохраните в переменную `data`. Путь к файлу:**\n",
    "\n",
    "`/datasets/data.csv`"
   ]
  },
  {
   "cell_type": "code",
   "execution_count": 1,
   "id": "860b539a",
   "metadata": {},
   "outputs": [],
   "source": [
    "import pandas as pd\n",
    "\n",
    "try:\n",
    "    data = pd.read_csv('/datasets/data.csv')\n",
    "except:\n",
    "    data = pd.read_csv('https://code.s3.yandex.net/datasets/data.csv')"
   ]
  },
  {
   "cell_type": "markdown",
   "id": "cccfd5d2",
   "metadata": {},
   "source": [
    "**Задание 2. Выведите первые 20 строчек датафрейма `data` на экран.**"
   ]
  },
  {
   "cell_type": "code",
   "execution_count": 2,
   "id": "aecb6899",
   "metadata": {},
   "outputs": [
    {
     "data": {
      "text/html": [
       "<div>\n",
       "<style scoped>\n",
       "    .dataframe tbody tr th:only-of-type {\n",
       "        vertical-align: middle;\n",
       "    }\n",
       "\n",
       "    .dataframe tbody tr th {\n",
       "        vertical-align: top;\n",
       "    }\n",
       "\n",
       "    .dataframe thead th {\n",
       "        text-align: right;\n",
       "    }\n",
       "</style>\n",
       "<table border=\"1\" class=\"dataframe\">\n",
       "  <thead>\n",
       "    <tr style=\"text-align: right;\">\n",
       "      <th></th>\n",
       "      <th>children</th>\n",
       "      <th>days_employed</th>\n",
       "      <th>dob_years</th>\n",
       "      <th>education</th>\n",
       "      <th>education_id</th>\n",
       "      <th>family_status</th>\n",
       "      <th>family_status_id</th>\n",
       "      <th>gender</th>\n",
       "      <th>income_type</th>\n",
       "      <th>debt</th>\n",
       "      <th>total_income</th>\n",
       "      <th>purpose</th>\n",
       "    </tr>\n",
       "  </thead>\n",
       "  <tbody>\n",
       "    <tr>\n",
       "      <th>0</th>\n",
       "      <td>1</td>\n",
       "      <td>-8437.673028</td>\n",
       "      <td>42</td>\n",
       "      <td>высшее</td>\n",
       "      <td>0</td>\n",
       "      <td>женат / замужем</td>\n",
       "      <td>0</td>\n",
       "      <td>F</td>\n",
       "      <td>сотрудник</td>\n",
       "      <td>0</td>\n",
       "      <td>253875.639453</td>\n",
       "      <td>покупка жилья</td>\n",
       "    </tr>\n",
       "    <tr>\n",
       "      <th>1</th>\n",
       "      <td>1</td>\n",
       "      <td>-4024.803754</td>\n",
       "      <td>36</td>\n",
       "      <td>среднее</td>\n",
       "      <td>1</td>\n",
       "      <td>женат / замужем</td>\n",
       "      <td>0</td>\n",
       "      <td>F</td>\n",
       "      <td>сотрудник</td>\n",
       "      <td>0</td>\n",
       "      <td>112080.014102</td>\n",
       "      <td>приобретение автомобиля</td>\n",
       "    </tr>\n",
       "    <tr>\n",
       "      <th>2</th>\n",
       "      <td>0</td>\n",
       "      <td>-5623.422610</td>\n",
       "      <td>33</td>\n",
       "      <td>Среднее</td>\n",
       "      <td>1</td>\n",
       "      <td>женат / замужем</td>\n",
       "      <td>0</td>\n",
       "      <td>M</td>\n",
       "      <td>сотрудник</td>\n",
       "      <td>0</td>\n",
       "      <td>145885.952297</td>\n",
       "      <td>покупка жилья</td>\n",
       "    </tr>\n",
       "    <tr>\n",
       "      <th>3</th>\n",
       "      <td>3</td>\n",
       "      <td>-4124.747207</td>\n",
       "      <td>32</td>\n",
       "      <td>среднее</td>\n",
       "      <td>1</td>\n",
       "      <td>женат / замужем</td>\n",
       "      <td>0</td>\n",
       "      <td>M</td>\n",
       "      <td>сотрудник</td>\n",
       "      <td>0</td>\n",
       "      <td>267628.550329</td>\n",
       "      <td>дополнительное образование</td>\n",
       "    </tr>\n",
       "    <tr>\n",
       "      <th>4</th>\n",
       "      <td>0</td>\n",
       "      <td>340266.072047</td>\n",
       "      <td>53</td>\n",
       "      <td>среднее</td>\n",
       "      <td>1</td>\n",
       "      <td>гражданский брак</td>\n",
       "      <td>1</td>\n",
       "      <td>F</td>\n",
       "      <td>пенсионер</td>\n",
       "      <td>0</td>\n",
       "      <td>158616.077870</td>\n",
       "      <td>сыграть свадьбу</td>\n",
       "    </tr>\n",
       "    <tr>\n",
       "      <th>5</th>\n",
       "      <td>0</td>\n",
       "      <td>-926.185831</td>\n",
       "      <td>27</td>\n",
       "      <td>высшее</td>\n",
       "      <td>0</td>\n",
       "      <td>гражданский брак</td>\n",
       "      <td>1</td>\n",
       "      <td>M</td>\n",
       "      <td>компаньон</td>\n",
       "      <td>0</td>\n",
       "      <td>255763.565419</td>\n",
       "      <td>покупка жилья</td>\n",
       "    </tr>\n",
       "    <tr>\n",
       "      <th>6</th>\n",
       "      <td>0</td>\n",
       "      <td>-2879.202052</td>\n",
       "      <td>43</td>\n",
       "      <td>высшее</td>\n",
       "      <td>0</td>\n",
       "      <td>женат / замужем</td>\n",
       "      <td>0</td>\n",
       "      <td>F</td>\n",
       "      <td>компаньон</td>\n",
       "      <td>0</td>\n",
       "      <td>240525.971920</td>\n",
       "      <td>операции с жильем</td>\n",
       "    </tr>\n",
       "    <tr>\n",
       "      <th>7</th>\n",
       "      <td>0</td>\n",
       "      <td>-152.779569</td>\n",
       "      <td>50</td>\n",
       "      <td>СРЕДНЕЕ</td>\n",
       "      <td>1</td>\n",
       "      <td>женат / замужем</td>\n",
       "      <td>0</td>\n",
       "      <td>M</td>\n",
       "      <td>сотрудник</td>\n",
       "      <td>0</td>\n",
       "      <td>135823.934197</td>\n",
       "      <td>образование</td>\n",
       "    </tr>\n",
       "    <tr>\n",
       "      <th>8</th>\n",
       "      <td>2</td>\n",
       "      <td>-6929.865299</td>\n",
       "      <td>35</td>\n",
       "      <td>ВЫСШЕЕ</td>\n",
       "      <td>0</td>\n",
       "      <td>гражданский брак</td>\n",
       "      <td>1</td>\n",
       "      <td>F</td>\n",
       "      <td>сотрудник</td>\n",
       "      <td>0</td>\n",
       "      <td>95856.832424</td>\n",
       "      <td>на проведение свадьбы</td>\n",
       "    </tr>\n",
       "    <tr>\n",
       "      <th>9</th>\n",
       "      <td>0</td>\n",
       "      <td>-2188.756445</td>\n",
       "      <td>41</td>\n",
       "      <td>среднее</td>\n",
       "      <td>1</td>\n",
       "      <td>женат / замужем</td>\n",
       "      <td>0</td>\n",
       "      <td>M</td>\n",
       "      <td>сотрудник</td>\n",
       "      <td>0</td>\n",
       "      <td>144425.938277</td>\n",
       "      <td>покупка жилья для семьи</td>\n",
       "    </tr>\n",
       "    <tr>\n",
       "      <th>10</th>\n",
       "      <td>2</td>\n",
       "      <td>-4171.483647</td>\n",
       "      <td>36</td>\n",
       "      <td>высшее</td>\n",
       "      <td>0</td>\n",
       "      <td>женат / замужем</td>\n",
       "      <td>0</td>\n",
       "      <td>M</td>\n",
       "      <td>компаньон</td>\n",
       "      <td>0</td>\n",
       "      <td>113943.491460</td>\n",
       "      <td>покупка недвижимости</td>\n",
       "    </tr>\n",
       "    <tr>\n",
       "      <th>11</th>\n",
       "      <td>0</td>\n",
       "      <td>-792.701887</td>\n",
       "      <td>40</td>\n",
       "      <td>среднее</td>\n",
       "      <td>1</td>\n",
       "      <td>женат / замужем</td>\n",
       "      <td>0</td>\n",
       "      <td>F</td>\n",
       "      <td>сотрудник</td>\n",
       "      <td>0</td>\n",
       "      <td>77069.234271</td>\n",
       "      <td>покупка коммерческой недвижимости</td>\n",
       "    </tr>\n",
       "    <tr>\n",
       "      <th>12</th>\n",
       "      <td>0</td>\n",
       "      <td>NaN</td>\n",
       "      <td>65</td>\n",
       "      <td>среднее</td>\n",
       "      <td>1</td>\n",
       "      <td>гражданский брак</td>\n",
       "      <td>1</td>\n",
       "      <td>M</td>\n",
       "      <td>пенсионер</td>\n",
       "      <td>0</td>\n",
       "      <td>NaN</td>\n",
       "      <td>сыграть свадьбу</td>\n",
       "    </tr>\n",
       "    <tr>\n",
       "      <th>13</th>\n",
       "      <td>0</td>\n",
       "      <td>-1846.641941</td>\n",
       "      <td>54</td>\n",
       "      <td>неоконченное высшее</td>\n",
       "      <td>2</td>\n",
       "      <td>женат / замужем</td>\n",
       "      <td>0</td>\n",
       "      <td>F</td>\n",
       "      <td>сотрудник</td>\n",
       "      <td>0</td>\n",
       "      <td>130458.228857</td>\n",
       "      <td>приобретение автомобиля</td>\n",
       "    </tr>\n",
       "    <tr>\n",
       "      <th>14</th>\n",
       "      <td>0</td>\n",
       "      <td>-1844.956182</td>\n",
       "      <td>56</td>\n",
       "      <td>высшее</td>\n",
       "      <td>0</td>\n",
       "      <td>гражданский брак</td>\n",
       "      <td>1</td>\n",
       "      <td>F</td>\n",
       "      <td>компаньон</td>\n",
       "      <td>1</td>\n",
       "      <td>165127.911772</td>\n",
       "      <td>покупка жилой недвижимости</td>\n",
       "    </tr>\n",
       "    <tr>\n",
       "      <th>15</th>\n",
       "      <td>1</td>\n",
       "      <td>-972.364419</td>\n",
       "      <td>26</td>\n",
       "      <td>среднее</td>\n",
       "      <td>1</td>\n",
       "      <td>женат / замужем</td>\n",
       "      <td>0</td>\n",
       "      <td>F</td>\n",
       "      <td>сотрудник</td>\n",
       "      <td>0</td>\n",
       "      <td>116820.904450</td>\n",
       "      <td>строительство собственной недвижимости</td>\n",
       "    </tr>\n",
       "    <tr>\n",
       "      <th>16</th>\n",
       "      <td>0</td>\n",
       "      <td>-1719.934226</td>\n",
       "      <td>35</td>\n",
       "      <td>среднее</td>\n",
       "      <td>1</td>\n",
       "      <td>женат / замужем</td>\n",
       "      <td>0</td>\n",
       "      <td>F</td>\n",
       "      <td>сотрудник</td>\n",
       "      <td>0</td>\n",
       "      <td>289202.704229</td>\n",
       "      <td>недвижимость</td>\n",
       "    </tr>\n",
       "    <tr>\n",
       "      <th>17</th>\n",
       "      <td>0</td>\n",
       "      <td>-2369.999720</td>\n",
       "      <td>33</td>\n",
       "      <td>высшее</td>\n",
       "      <td>0</td>\n",
       "      <td>гражданский брак</td>\n",
       "      <td>1</td>\n",
       "      <td>M</td>\n",
       "      <td>сотрудник</td>\n",
       "      <td>0</td>\n",
       "      <td>90410.586745</td>\n",
       "      <td>строительство недвижимости</td>\n",
       "    </tr>\n",
       "    <tr>\n",
       "      <th>18</th>\n",
       "      <td>0</td>\n",
       "      <td>400281.136913</td>\n",
       "      <td>53</td>\n",
       "      <td>среднее</td>\n",
       "      <td>1</td>\n",
       "      <td>вдовец / вдова</td>\n",
       "      <td>2</td>\n",
       "      <td>F</td>\n",
       "      <td>пенсионер</td>\n",
       "      <td>0</td>\n",
       "      <td>56823.777243</td>\n",
       "      <td>на покупку подержанного автомобиля</td>\n",
       "    </tr>\n",
       "    <tr>\n",
       "      <th>19</th>\n",
       "      <td>0</td>\n",
       "      <td>-10038.818549</td>\n",
       "      <td>48</td>\n",
       "      <td>СРЕДНЕЕ</td>\n",
       "      <td>1</td>\n",
       "      <td>в разводе</td>\n",
       "      <td>3</td>\n",
       "      <td>F</td>\n",
       "      <td>сотрудник</td>\n",
       "      <td>0</td>\n",
       "      <td>242831.107982</td>\n",
       "      <td>на покупку своего автомобиля</td>\n",
       "    </tr>\n",
       "  </tbody>\n",
       "</table>\n",
       "</div>"
      ],
      "text/plain": [
       "    children  days_employed  dob_years            education  education_id  \\\n",
       "0          1   -8437.673028         42               высшее             0   \n",
       "1          1   -4024.803754         36              среднее             1   \n",
       "2          0   -5623.422610         33              Среднее             1   \n",
       "3          3   -4124.747207         32              среднее             1   \n",
       "4          0  340266.072047         53              среднее             1   \n",
       "5          0    -926.185831         27               высшее             0   \n",
       "6          0   -2879.202052         43               высшее             0   \n",
       "7          0    -152.779569         50              СРЕДНЕЕ             1   \n",
       "8          2   -6929.865299         35               ВЫСШЕЕ             0   \n",
       "9          0   -2188.756445         41              среднее             1   \n",
       "10         2   -4171.483647         36               высшее             0   \n",
       "11         0    -792.701887         40              среднее             1   \n",
       "12         0            NaN         65              среднее             1   \n",
       "13         0   -1846.641941         54  неоконченное высшее             2   \n",
       "14         0   -1844.956182         56               высшее             0   \n",
       "15         1    -972.364419         26              среднее             1   \n",
       "16         0   -1719.934226         35              среднее             1   \n",
       "17         0   -2369.999720         33               высшее             0   \n",
       "18         0  400281.136913         53              среднее             1   \n",
       "19         0  -10038.818549         48              СРЕДНЕЕ             1   \n",
       "\n",
       "       family_status  family_status_id gender income_type  debt  \\\n",
       "0    женат / замужем                 0      F   сотрудник     0   \n",
       "1    женат / замужем                 0      F   сотрудник     0   \n",
       "2    женат / замужем                 0      M   сотрудник     0   \n",
       "3    женат / замужем                 0      M   сотрудник     0   \n",
       "4   гражданский брак                 1      F   пенсионер     0   \n",
       "5   гражданский брак                 1      M   компаньон     0   \n",
       "6    женат / замужем                 0      F   компаньон     0   \n",
       "7    женат / замужем                 0      M   сотрудник     0   \n",
       "8   гражданский брак                 1      F   сотрудник     0   \n",
       "9    женат / замужем                 0      M   сотрудник     0   \n",
       "10   женат / замужем                 0      M   компаньон     0   \n",
       "11   женат / замужем                 0      F   сотрудник     0   \n",
       "12  гражданский брак                 1      M   пенсионер     0   \n",
       "13   женат / замужем                 0      F   сотрудник     0   \n",
       "14  гражданский брак                 1      F   компаньон     1   \n",
       "15   женат / замужем                 0      F   сотрудник     0   \n",
       "16   женат / замужем                 0      F   сотрудник     0   \n",
       "17  гражданский брак                 1      M   сотрудник     0   \n",
       "18    вдовец / вдова                 2      F   пенсионер     0   \n",
       "19         в разводе                 3      F   сотрудник     0   \n",
       "\n",
       "     total_income                                 purpose  \n",
       "0   253875.639453                           покупка жилья  \n",
       "1   112080.014102                 приобретение автомобиля  \n",
       "2   145885.952297                           покупка жилья  \n",
       "3   267628.550329              дополнительное образование  \n",
       "4   158616.077870                         сыграть свадьбу  \n",
       "5   255763.565419                           покупка жилья  \n",
       "6   240525.971920                       операции с жильем  \n",
       "7   135823.934197                             образование  \n",
       "8    95856.832424                   на проведение свадьбы  \n",
       "9   144425.938277                 покупка жилья для семьи  \n",
       "10  113943.491460                    покупка недвижимости  \n",
       "11   77069.234271       покупка коммерческой недвижимости  \n",
       "12            NaN                         сыграть свадьбу  \n",
       "13  130458.228857                 приобретение автомобиля  \n",
       "14  165127.911772              покупка жилой недвижимости  \n",
       "15  116820.904450  строительство собственной недвижимости  \n",
       "16  289202.704229                            недвижимость  \n",
       "17   90410.586745              строительство недвижимости  \n",
       "18   56823.777243      на покупку подержанного автомобиля  \n",
       "19  242831.107982            на покупку своего автомобиля  "
      ]
     },
     "execution_count": 2,
     "metadata": {},
     "output_type": "execute_result"
    }
   ],
   "source": [
    "data.head(20)"
   ]
  },
  {
   "cell_type": "markdown",
   "id": "bde6342b",
   "metadata": {},
   "source": [
    "**Задание 3. Выведите основную информацию о датафрейме с помощью метода `info()`.**"
   ]
  },
  {
   "cell_type": "code",
   "execution_count": 3,
   "id": "6e0c5c89",
   "metadata": {},
   "outputs": [
    {
     "name": "stdout",
     "output_type": "stream",
     "text": [
      "<class 'pandas.core.frame.DataFrame'>\n",
      "RangeIndex: 21525 entries, 0 to 21524\n",
      "Data columns (total 12 columns):\n",
      " #   Column            Non-Null Count  Dtype  \n",
      "---  ------            --------------  -----  \n",
      " 0   children          21525 non-null  int64  \n",
      " 1   days_employed     19351 non-null  float64\n",
      " 2   dob_years         21525 non-null  int64  \n",
      " 3   education         21525 non-null  object \n",
      " 4   education_id      21525 non-null  int64  \n",
      " 5   family_status     21525 non-null  object \n",
      " 6   family_status_id  21525 non-null  int64  \n",
      " 7   gender            21525 non-null  object \n",
      " 8   income_type       21525 non-null  object \n",
      " 9   debt              21525 non-null  int64  \n",
      " 10  total_income      19351 non-null  float64\n",
      " 11  purpose           21525 non-null  object \n",
      "dtypes: float64(2), int64(5), object(5)\n",
      "memory usage: 2.0+ MB\n"
     ]
    }
   ],
   "source": [
    "data.info()"
   ]
  },
  {
   "cell_type": "markdown",
   "id": "07e33bbf",
   "metadata": {},
   "source": [
    "<font color='Blue'><b>**Вывод:**  \n",
    "  \n",
    "  **Открыта таблица с предоставленными данными. Для дальнейшей обработки данных необходимо будет удалить дупликаты и заполнить пропуски.**</b></font>"
   ]
  },
  {
   "cell_type": "markdown",
   "id": "06aebc51",
   "metadata": {},
   "source": [
    "## Предобработка данных"
   ]
  },
  {
   "cell_type": "markdown",
   "id": "86469b36",
   "metadata": {},
   "source": [
    "<font color='Blue'><b>**Проведем предобработку полученных данных. Предварительно оценим количество пропущенных значений.**</b></font>"
   ]
  },
  {
   "cell_type": "markdown",
   "id": "5d8f3a2d",
   "metadata": {},
   "source": [
    "### Удаление пропусков"
   ]
  },
  {
   "cell_type": "markdown",
   "id": "4b82d58e",
   "metadata": {},
   "source": [
    "**Задание 4. Выведите количество пропущенных значений для каждого столбца. Используйте комбинацию двух методов.**"
   ]
  },
  {
   "cell_type": "code",
   "execution_count": 4,
   "id": "a5c6a75a",
   "metadata": {},
   "outputs": [
    {
     "data": {
      "text/plain": [
       "children               0\n",
       "days_employed       2174\n",
       "dob_years              0\n",
       "education              0\n",
       "education_id           0\n",
       "family_status          0\n",
       "family_status_id       0\n",
       "gender                 0\n",
       "income_type            0\n",
       "debt                   0\n",
       "total_income        2174\n",
       "purpose                0\n",
       "dtype: int64"
      ]
     },
     "execution_count": 4,
     "metadata": {},
     "output_type": "execute_result"
    }
   ],
   "source": [
    "data.isna().sum()"
   ]
  },
  {
   "cell_type": "markdown",
   "id": "daf4812d",
   "metadata": {},
   "source": [
    "<font color='Blue'><b>**В двух столбцах \"days_employed\" (трудовой стаж) и \"total_income\" (среднемесячные доходы) присутствуют пропуски. Пропуски в столбце \"total_income\" заполним медианным доходом среди всех записей с тем же типом.** </b></font> "
   ]
  },
  {
   "cell_type": "markdown",
   "id": "d193ef1a",
   "metadata": {},
   "source": [
    "**Задание 5. В двух столбцах есть пропущенные значения. Один из них — `days_employed`. Пропуски в этом столбце вы обработаете на следующем этапе. Другой столбец с пропущенными значениями — `total_income` — хранит данные о доходах. На сумму дохода сильнее всего влияет тип занятости, поэтому заполнить пропуски в этом столбце нужно медианным значением по каждому типу из столбца `income_type`. Например, у человека с типом занятости `сотрудник` пропуск в столбце `total_income` должен быть заполнен медианным доходом среди всех записей с тем же типом.**"
   ]
  },
  {
   "cell_type": "code",
   "execution_count": 5,
   "id": "e966eaef",
   "metadata": {},
   "outputs": [],
   "source": [
    "for t in data['income_type'].unique():\n",
    "    data.loc[(data['income_type'] == t) & (data['total_income'].isna()), 'total_income'] = \\\n",
    "    data.loc[(data['income_type'] == t), 'total_income'].median()"
   ]
  },
  {
   "cell_type": "markdown",
   "id": "cc8c81ee",
   "metadata": {},
   "source": [
    "### Обработка аномальных значений"
   ]
  },
  {
   "cell_type": "markdown",
   "id": "dd701321",
   "metadata": {},
   "source": [
    "<font color='Blue'><b> **В полученных данных трудовой стаж в некоторых позициях представлен в отрицательных числах. Необходимо их все привести к положительным значениям.** </b></font>"
   ]
  },
  {
   "cell_type": "markdown",
   "id": "82686f6c",
   "metadata": {},
   "source": [
    "**Задание 6. В данных могут встречаться артефакты (аномалии) — значения, которые не отражают действительность и появились по какой-то ошибке. таким артефактом будет отрицательное количество дней трудового стажа в столбце `days_employed`. Для реальных данных это нормально. Обработайте значения в этом столбце: замените все отрицательные значения положительными с помощью метода `abs()`.**"
   ]
  },
  {
   "cell_type": "code",
   "execution_count": 6,
   "id": "02761b6f",
   "metadata": {},
   "outputs": [],
   "source": [
    "data['days_employed'] = data['days_employed'].abs()"
   ]
  },
  {
   "cell_type": "markdown",
   "id": "e47bd0dd",
   "metadata": {},
   "source": [
    "<font color='Blue'><b> **Пропуски в столбце \"days_employed\" заполним медианным значение трудового стажа для каждого типа занятости.** </b></font>"
   ]
  },
  {
   "cell_type": "markdown",
   "id": "960c53b8",
   "metadata": {},
   "source": [
    "**Задание 7. Для каждого типа занятости выведите медианное значение трудового стажа `days_employed` в днях.**"
   ]
  },
  {
   "cell_type": "code",
   "execution_count": 7,
   "id": "1a1ecca9",
   "metadata": {},
   "outputs": [
    {
     "data": {
      "text/plain": [
       "income_type\n",
       "безработный        366413.652744\n",
       "в декрете            3296.759962\n",
       "госслужащий          2689.368353\n",
       "компаньон            1547.382223\n",
       "пенсионер          365213.306266\n",
       "предприниматель       520.848083\n",
       "сотрудник            1574.202821\n",
       "студент               578.751554\n",
       "Name: days_employed, dtype: float64"
      ]
     },
     "execution_count": 7,
     "metadata": {},
     "output_type": "execute_result"
    }
   ],
   "source": [
    "data.groupby('income_type')['days_employed'].agg('median')"
   ]
  },
  {
   "cell_type": "markdown",
   "id": "0480c291",
   "metadata": {},
   "source": [
    "<font color='Blue'><b> **Проведем анализ столбца \"children\" (числа детей в семье клиентов). Проанализируем таблицу на наличие аномальных значений в этом столбце. Удалим при наличии такие строчки.** </b></font>"
   ]
  },
  {
   "cell_type": "markdown",
   "id": "e35bbcf3",
   "metadata": {},
   "source": [
    "**Задание 8. Выведите перечень уникальных значений столбца `children`.**"
   ]
  },
  {
   "cell_type": "code",
   "execution_count": 8,
   "id": "0be038d8",
   "metadata": {},
   "outputs": [
    {
     "data": {
      "text/plain": [
       "array([ 1,  0,  3,  2, -1,  4, 20,  5])"
      ]
     },
     "execution_count": 8,
     "metadata": {},
     "output_type": "execute_result"
    }
   ],
   "source": [
    "data['children'].unique()"
   ]
  },
  {
   "cell_type": "markdown",
   "id": "2f86b42a",
   "metadata": {},
   "source": [
    "**Задание 9. В столбце `children` есть два аномальных значения. Удалите строки, в которых встречаются такие аномальные значения из датафрейма `data`.**"
   ]
  },
  {
   "cell_type": "code",
   "execution_count": 9,
   "id": "ced65e9c",
   "metadata": {},
   "outputs": [],
   "source": [
    "data = data[(data['children'] != -1) & (data['children'] != 20)]"
   ]
  },
  {
   "cell_type": "markdown",
   "id": "f0def8ff",
   "metadata": {},
   "source": [
    "**Задание 10. Ещё раз выведите перечень уникальных значений столбца `children`, чтобы убедиться, что артефакты удалены.**"
   ]
  },
  {
   "cell_type": "code",
   "execution_count": 10,
   "id": "e0b50da7",
   "metadata": {},
   "outputs": [
    {
     "data": {
      "text/plain": [
       "array([1, 0, 3, 2, 4, 5])"
      ]
     },
     "execution_count": 10,
     "metadata": {},
     "output_type": "execute_result"
    }
   ],
   "source": [
    "data['children'].unique()"
   ]
  },
  {
   "cell_type": "markdown",
   "id": "e3fb24a8",
   "metadata": {},
   "source": [
    "### Удаление пропусков (продолжение)"
   ]
  },
  {
   "cell_type": "markdown",
   "id": "fd1b4e21",
   "metadata": {},
   "source": [
    "<font color='Blue'><b> **Ранее бы наблюдали наличие пропусков в столбце \"days_employed\" (трудовой стаж в днях). Заполним эти пропуски медианными значениями по каждого типа занятости \"income_type\".** </b></font>"
   ]
  },
  {
   "cell_type": "markdown",
   "id": "8820bb34",
   "metadata": {},
   "source": [
    "**Задание 11. Заполните пропуски в столбце `days_employed` медианными значениями по каждого типа занятости `income_type`.**"
   ]
  },
  {
   "cell_type": "code",
   "execution_count": 11,
   "id": "791f7f6c",
   "metadata": {},
   "outputs": [],
   "source": [
    "for t in data['income_type'].unique():\n",
    "    data.loc[(data['income_type'] == t) & (data['days_employed'].isna()), 'days_employed'] = \\\n",
    "    data.loc[(data['income_type'] == t), 'days_employed'].median()"
   ]
  },
  {
   "cell_type": "markdown",
   "id": "bfab8b29",
   "metadata": {},
   "source": [
    "**Задание 12. Убедитесь, что все пропуски заполнены. Проверьте себя и ещё раз выведите количество пропущенных значений для каждого столбца с помощью двух методов.**"
   ]
  },
  {
   "cell_type": "code",
   "execution_count": 12,
   "id": "76f91247",
   "metadata": {
    "scrolled": true
   },
   "outputs": [
    {
     "data": {
      "text/plain": [
       "children            0\n",
       "days_employed       0\n",
       "dob_years           0\n",
       "education           0\n",
       "education_id        0\n",
       "family_status       0\n",
       "family_status_id    0\n",
       "gender              0\n",
       "income_type         0\n",
       "debt                0\n",
       "total_income        0\n",
       "purpose             0\n",
       "dtype: int64"
      ]
     },
     "execution_count": 12,
     "metadata": {},
     "output_type": "execute_result"
    }
   ],
   "source": [
    "data.isna().sum()"
   ]
  },
  {
   "cell_type": "markdown",
   "id": "ebe22148",
   "metadata": {},
   "source": [
    "<font color='Blue'><b> **Пропуски таблицы нами заполнены. Теперь приведем данные столбца \"total_income\" (среднемесячного дохода) к целочисленным значениям.** </b></font>"
   ]
  },
  {
   "cell_type": "markdown",
   "id": "a022a312",
   "metadata": {},
   "source": [
    "### Изменение типов данных"
   ]
  },
  {
   "cell_type": "markdown",
   "id": "40768ca2",
   "metadata": {},
   "source": [
    "**Задание 13. Замените вещественный тип данных в столбце `total_income` на целочисленный с помощью метода `astype()`.**"
   ]
  },
  {
   "cell_type": "code",
   "execution_count": 13,
   "id": "35b85c4f",
   "metadata": {},
   "outputs": [],
   "source": [
    "data['total_income'] = data['total_income'].astype(int)"
   ]
  },
  {
   "cell_type": "markdown",
   "id": "331e8d48",
   "metadata": {},
   "source": [
    "<font color='Blue'><b> **В столбце \"education\" (уровень образования) приведем записанные значения к единому виду к строчным буквам.** </b></font>"
   ]
  },
  {
   "cell_type": "markdown",
   "id": "69c44dab",
   "metadata": {},
   "source": [
    "### Обработка дубликатов"
   ]
  },
  {
   "cell_type": "markdown",
   "id": "c36c2443",
   "metadata": {},
   "source": [
    "**Задание 14. Обработайте неявные дубликаты в столбце `education`. В этом столбце есть одни и те же значения, но записанные по-разному: с использованием заглавных и строчных букв. Приведите их к нижнему регистру. Проверьте остальные столбцы.**"
   ]
  },
  {
   "cell_type": "code",
   "execution_count": 14,
   "id": "69341e3d",
   "metadata": {},
   "outputs": [],
   "source": [
    "data['education'] = data['education'].str.lower()"
   ]
  },
  {
   "cell_type": "markdown",
   "id": "d71c2453",
   "metadata": {},
   "source": [
    "<font color='Blue'><b> **Проанализируем данные на наличие дубликатов и удалим дублирующие.** </b></font>"
   ]
  },
  {
   "cell_type": "markdown",
   "id": "0fab26a8",
   "metadata": {},
   "source": [
    "**Задание 15. Выведите на экран количество строк-дубликатов в данных. Если такие строки присутствуют, удалите их.**"
   ]
  },
  {
   "cell_type": "code",
   "execution_count": 15,
   "id": "82595e8e",
   "metadata": {},
   "outputs": [
    {
     "data": {
      "text/plain": [
       "71"
      ]
     },
     "execution_count": 15,
     "metadata": {},
     "output_type": "execute_result"
    }
   ],
   "source": [
    "data.duplicated().sum()"
   ]
  },
  {
   "cell_type": "code",
   "execution_count": 16,
   "id": "7b4e6a30",
   "metadata": {},
   "outputs": [],
   "source": [
    "data = data.drop_duplicates()"
   ]
  },
  {
   "cell_type": "markdown",
   "id": "698f1560",
   "metadata": {},
   "source": [
    "### Категоризация данных"
   ]
  },
  {
   "cell_type": "markdown",
   "id": "1fc0951d",
   "metadata": {},
   "source": [
    "<font color='Blue'><b> **Сгруппируем клиентов по группам в зависимости от уровня доходов и создадим для этого функцию распределяющих клиентов в соответствующию группу в зависимости от уровня дохода.** </b></font>"
   ]
  },
  {
   "cell_type": "markdown",
   "id": "6250eaa5",
   "metadata": {},
   "source": [
    "**Задание 16. На основании диапазонов, указанных ниже, создайте в датафрейме `data` столбец `total_income_category` с категориями:**\n",
    "\n",
    "- 0–30000 — `'E'`;\n",
    "- 30001–50000 — `'D'`;\n",
    "- 50001–200000 — `'C'`;\n",
    "- 200001–1000000 — `'B'`;\n",
    "- 1000001 и выше — `'A'`.\n",
    "\n",
    "\n",
    "**Например, кредитополучателю с доходом 25000 нужно назначить категорию `'E'`, а клиенту, получающему 235000, — `'B'`. Используйте собственную функцию с именем `categorize_income()` и метод `apply()`.**"
   ]
  },
  {
   "cell_type": "code",
   "execution_count": 17,
   "id": "f7574b63",
   "metadata": {},
   "outputs": [],
   "source": [
    "def categorize_income(income):\n",
    "    try:\n",
    "        if 0 <= income <= 30000:\n",
    "            return 'E'\n",
    "        elif 30001 <= income <= 50000:\n",
    "            return 'D'\n",
    "        elif 50001 <= income <= 200000:\n",
    "            return 'C'\n",
    "        elif 200001 <= income <= 1000000:\n",
    "            return 'B'\n",
    "        elif income >= 1000001:\n",
    "            return 'A'\n",
    "    except:\n",
    "        pass"
   ]
  },
  {
   "cell_type": "code",
   "execution_count": 18,
   "id": "4c188e69",
   "metadata": {},
   "outputs": [],
   "source": [
    "data['total_income_category'] = data['total_income'].apply(categorize_income)"
   ]
  },
  {
   "cell_type": "markdown",
   "id": "f5513e8f",
   "metadata": {},
   "source": [
    "<font color='Blue'><b> **Сгруппируем клиентов по группам в зависимости от цели кредитов. Анализ полученных данных в столбце целей кредитов показал, что их всех можно распределить на 4 основные группы (\"операции с автомобилем\", \"операции с недвижимостью\", \"проведение свадьбы\", \"получение образования\"). Cоздадим для этого соответствующую функцию.** </b></font>"
   ]
  },
  {
   "cell_type": "markdown",
   "id": "e1312ae7",
   "metadata": {},
   "source": [
    "**Задание 17. Выведите на экран перечень уникальных целей взятия кредита из столбца `purpose`.**"
   ]
  },
  {
   "cell_type": "code",
   "execution_count": 19,
   "id": "cdc11c14",
   "metadata": {},
   "outputs": [
    {
     "data": {
      "text/plain": [
       "array(['покупка жилья', 'приобретение автомобиля',\n",
       "       'дополнительное образование', 'сыграть свадьбу',\n",
       "       'операции с жильем', 'образование', 'на проведение свадьбы',\n",
       "       'покупка жилья для семьи', 'покупка недвижимости',\n",
       "       'покупка коммерческой недвижимости', 'покупка жилой недвижимости',\n",
       "       'строительство собственной недвижимости', 'недвижимость',\n",
       "       'строительство недвижимости', 'на покупку подержанного автомобиля',\n",
       "       'на покупку своего автомобиля',\n",
       "       'операции с коммерческой недвижимостью',\n",
       "       'строительство жилой недвижимости', 'жилье',\n",
       "       'операции со своей недвижимостью', 'автомобили',\n",
       "       'заняться образованием', 'сделка с подержанным автомобилем',\n",
       "       'получение образования', 'автомобиль', 'свадьба',\n",
       "       'получение дополнительного образования', 'покупка своего жилья',\n",
       "       'операции с недвижимостью', 'получение высшего образования',\n",
       "       'свой автомобиль', 'сделка с автомобилем',\n",
       "       'профильное образование', 'высшее образование',\n",
       "       'покупка жилья для сдачи', 'на покупку автомобиля', 'ремонт жилью',\n",
       "       'заняться высшим образованием'], dtype=object)"
      ]
     },
     "execution_count": 19,
     "metadata": {},
     "output_type": "execute_result"
    }
   ],
   "source": [
    "data['purpose'].unique()"
   ]
  },
  {
   "cell_type": "markdown",
   "id": "4617939b",
   "metadata": {},
   "source": [
    "**Задание 18. Создайте функцию, которая на основании данных из столбца `purpose` сформирует новый столбец `purpose_category`, в который войдут следующие категории:**\n",
    "\n",
    "- `'операции с автомобилем'`,\n",
    "- `'операции с недвижимостью'`,\n",
    "- `'проведение свадьбы'`,\n",
    "- `'получение образования'`.\n",
    "\n",
    "**Например, если в столбце `purpose` находится подстрока `'на покупку автомобиля'`, то в столбце `purpose_category` должна появиться строка `'операции с автомобилем'`.**\n",
    "\n",
    "**Используйте собственную функцию с именем `categorize_purpose()` и метод `apply()`. Изучите данные в столбце `purpose` и определите, какие подстроки помогут вам правильно определить категорию.**"
   ]
  },
  {
   "cell_type": "code",
   "execution_count": 20,
   "id": "9f5300aa",
   "metadata": {},
   "outputs": [],
   "source": [
    "def categorize_purpose(row):\n",
    "    try:\n",
    "        if 'автом' in row:\n",
    "            return 'операции с автомобилем'\n",
    "        elif 'жил' in row or 'недвиж' in row:\n",
    "            return 'операции с недвижимостью'\n",
    "        elif 'свад' in row:\n",
    "            return 'проведение свадьбы'\n",
    "        elif 'образов' in row:\n",
    "            return 'получение образования'\n",
    "    except:\n",
    "        return 'нет категории'"
   ]
  },
  {
   "cell_type": "code",
   "execution_count": 21,
   "id": "fcbeab64",
   "metadata": {},
   "outputs": [],
   "source": [
    "data['purpose_category'] = data['purpose'].apply(categorize_purpose)"
   ]
  },
  {
   "cell_type": "markdown",
   "id": "83378cda",
   "metadata": {},
   "source": [
    "### Шаг 3. Исследуйте данные и ответьте на вопросы"
   ]
  },
  {
   "cell_type": "markdown",
   "id": "10387a3c",
   "metadata": {},
   "source": [
    "<font color='Blue'><b> **Исследуем зависимость количества детей в семьях клиентов и возврата кредитов в срок.** </b></font>"
   ]
  },
  {
   "cell_type": "markdown",
   "id": "f4cf97a9",
   "metadata": {},
   "source": [
    "#### 3.1 Есть ли зависимость между количеством детей и возвратом кредита в срок?"
   ]
  },
  {
   "cell_type": "markdown",
   "id": "5bfd1df2",
   "metadata": {},
   "source": [
    "1. Добавляем нужную библиотеку"
   ]
  },
  {
   "cell_type": "code",
   "execution_count": 22,
   "id": "b262abd3",
   "metadata": {},
   "outputs": [],
   "source": [
    "import seaborn as sns\n",
    "import matplotlib.pylab as plt"
   ]
  },
  {
   "cell_type": "markdown",
   "id": "284da1e4",
   "metadata": {},
   "source": [
    "2. Изобразим гистограмму в Seaborn вызвав функцию barplot(). Построим зависимость задолженности по возврату кредитов от количества детей. Seaborn автоматически применяет фильтр к параметру задолженности (\"0\" или \"1\"), который основан на вычислении среднего значения предоставленных данных. Соотношение числа клиентов имевших задолженность к общему количеству клиентов выразим в процентах, %."
   ]
  },
  {
   "cell_type": "code",
   "execution_count": 23,
   "id": "8199e24b",
   "metadata": {},
   "outputs": [
    {
     "data": {
      "text/plain": [
       "<AxesSubplot:xlabel='children', ylabel='debt'>"
      ]
     },
     "execution_count": 23,
     "metadata": {},
     "output_type": "execute_result"
    },
    {
     "data": {
      "image/png": "[encoded data removed]",
      "text/plain": [
       "<Figure size 432x288 with 1 Axes>"
      ]
     },
     "metadata": {
      "needs_background": "light"
     },
     "output_type": "display_data"
    }
   ],
   "source": [
    "sns.barplot(x = data['children'], y=data['debt']*100, ci=None)"
   ]
  },
  {
   "cell_type": "code",
   "execution_count": 24,
   "id": "532006ee",
   "metadata": {},
   "outputs": [
    {
     "data": {
      "text/html": [
       "<style  type=\"text/css\" >\n",
       "#T_fcc5c_row0_col0,#T_fcc5c_row0_col1,#T_fcc5c_row4_col2{\n",
       "            background-color:  #08306b;\n",
       "            color:  #f1f1f1;\n",
       "        }#T_fcc5c_row0_col2{\n",
       "            background-color:  #1c6bb0;\n",
       "            color:  #f1f1f1;\n",
       "        }#T_fcc5c_row1_col0{\n",
       "            background-color:  #a9cfe5;\n",
       "            color:  #000000;\n",
       "        }#T_fcc5c_row1_col1{\n",
       "            background-color:  #8dc1dd;\n",
       "            color:  #000000;\n",
       "        }#T_fcc5c_row1_col2{\n",
       "            background-color:  #083d7f;\n",
       "            color:  #f1f1f1;\n",
       "        }#T_fcc5c_row2_col0{\n",
       "            background-color:  #dae8f6;\n",
       "            color:  #000000;\n",
       "        }#T_fcc5c_row2_col1{\n",
       "            background-color:  #d3e4f3;\n",
       "            color:  #000000;\n",
       "        }#T_fcc5c_row2_col2{\n",
       "            background-color:  #083776;\n",
       "            color:  #f1f1f1;\n",
       "        }#T_fcc5c_row3_col0{\n",
       "            background-color:  #f3f8fe;\n",
       "            color:  #000000;\n",
       "        }#T_fcc5c_row3_col1{\n",
       "            background-color:  #f2f8fd;\n",
       "            color:  #000000;\n",
       "        }#T_fcc5c_row3_col2{\n",
       "            background-color:  #0f5aa3;\n",
       "            color:  #f1f1f1;\n",
       "        }#T_fcc5c_row4_col0,#T_fcc5c_row4_col1,#T_fcc5c_row5_col0,#T_fcc5c_row5_col1,#T_fcc5c_row5_col2{\n",
       "            background-color:  #f7fbff;\n",
       "            color:  #000000;\n",
       "        }</style><table id=\"T_fcc5c_\" ><thead>    <tr>        <th class=\"blank level0\" ></th>        <th class=\"col_heading level0 col0\" >Всего заемщиков</th>        <th class=\"col_heading level0 col1\" >Всего должников</th>        <th class=\"col_heading level0 col2\" >Доля должников</th>    </tr>    <tr>        <th class=\"index_name level0\" >children</th>        <th class=\"blank\" ></th>        <th class=\"blank\" ></th>        <th class=\"blank\" ></th>    </tr></thead><tbody>\n",
       "                <tr>\n",
       "                        <th id=\"T_fcc5c_level0_row0\" class=\"row_heading level0 row0\" >0</th>\n",
       "                        <td id=\"T_fcc5c_row0_col0\" class=\"data row0 col0\" >14091.000</td>\n",
       "                        <td id=\"T_fcc5c_row0_col1\" class=\"data row0 col1\" >1063.000</td>\n",
       "                        <td id=\"T_fcc5c_row0_col2\" class=\"data row0 col2\" >0.075</td>\n",
       "            </tr>\n",
       "            <tr>\n",
       "                        <th id=\"T_fcc5c_level0_row1\" class=\"row_heading level0 row1\" >1</th>\n",
       "                        <td id=\"T_fcc5c_row1_col0\" class=\"data row1 col0\" >4808.000</td>\n",
       "                        <td id=\"T_fcc5c_row1_col1\" class=\"data row1 col1\" >444.000</td>\n",
       "                        <td id=\"T_fcc5c_row1_col2\" class=\"data row1 col2\" >0.092</td>\n",
       "            </tr>\n",
       "            <tr>\n",
       "                        <th id=\"T_fcc5c_level0_row2\" class=\"row_heading level0 row2\" >2</th>\n",
       "                        <td id=\"T_fcc5c_row2_col0\" class=\"data row2 col0\" >2052.000</td>\n",
       "                        <td id=\"T_fcc5c_row2_col1\" class=\"data row2 col1\" >194.000</td>\n",
       "                        <td id=\"T_fcc5c_row2_col2\" class=\"data row2 col2\" >0.095</td>\n",
       "            </tr>\n",
       "            <tr>\n",
       "                        <th id=\"T_fcc5c_level0_row3\" class=\"row_heading level0 row3\" >3</th>\n",
       "                        <td id=\"T_fcc5c_row3_col0\" class=\"data row3 col0\" >330.000</td>\n",
       "                        <td id=\"T_fcc5c_row3_col1\" class=\"data row3 col1\" >27.000</td>\n",
       "                        <td id=\"T_fcc5c_row3_col2\" class=\"data row3 col2\" >0.082</td>\n",
       "            </tr>\n",
       "            <tr>\n",
       "                        <th id=\"T_fcc5c_level0_row4\" class=\"row_heading level0 row4\" >4</th>\n",
       "                        <td id=\"T_fcc5c_row4_col0\" class=\"data row4 col0\" >41.000</td>\n",
       "                        <td id=\"T_fcc5c_row4_col1\" class=\"data row4 col1\" >4.000</td>\n",
       "                        <td id=\"T_fcc5c_row4_col2\" class=\"data row4 col2\" >0.098</td>\n",
       "            </tr>\n",
       "            <tr>\n",
       "                        <th id=\"T_fcc5c_level0_row5\" class=\"row_heading level0 row5\" >5</th>\n",
       "                        <td id=\"T_fcc5c_row5_col0\" class=\"data row5 col0\" >9.000</td>\n",
       "                        <td id=\"T_fcc5c_row5_col1\" class=\"data row5 col1\" >0.000</td>\n",
       "                        <td id=\"T_fcc5c_row5_col2\" class=\"data row5 col2\" >0.000</td>\n",
       "            </tr>\n",
       "    </tbody></table>"
      ],
      "text/plain": [
       "<pandas.io.formats.style.Styler at 0x7f8708e9cdf0>"
      ]
     },
     "metadata": {},
     "output_type": "display_data"
    }
   ],
   "source": [
    "temp = data.copy()\n",
    "\n",
    "def percent(x):\n",
    "    return \"{0:.2%}\".format(x)\n",
    "\n",
    "def que(category):\n",
    "    data_temp = temp.pivot_table(index=category, values='debt', aggfunc=['count', 'sum', 'mean'])\n",
    "    data_temp.columns = ['Всего заемщиков', 'Всего должников', 'Доля должников']\n",
    "    \n",
    "    display(data_temp.style.format(\"{:.3f}\").background_gradient(cmap='Blues', axis=0))\n",
    "    \n",
    "que('children')"
   ]
  },
  {
   "cell_type": "markdown",
   "id": "49bc1146",
   "metadata": {},
   "source": [
    "<font color='Blue'><b> Выводы:  \n",
    "    •\tcамые надежные заемщики с долей 0.075 - это заемщики без детей;     \n",
    "    • \tс увеличением количества детей доля просрочек увеличивается и многодетные семьи с 4-мя детьми относятся к ненадежным заемщикам с самой высокой долей просрочек 0.097    \n",
    "    •\tподмечено, что доля должников с многодетные семьи с 5-мя детьми равно 0%. Это по причине их малого количествап среди кредитополучателей. А среди должников их количество равно \"0\". </b></font>"
   ]
  },
  {
   "cell_type": "markdown",
   "id": "1cd3b4dd",
   "metadata": {},
   "source": [
    "#### 3.2 Есть ли зависимость между семейным положением и возвратом кредита в срок?"
   ]
  },
  {
   "cell_type": "markdown",
   "id": "69289cfc",
   "metadata": {},
   "source": [
    "<font color='Blue'><b> **Исследуем зависимость между семейным положением и возвратом кредита в срок.** </b></font>"
   ]
  },
  {
   "cell_type": "code",
   "execution_count": 25,
   "id": "a899d719",
   "metadata": {},
   "outputs": [
    {
     "data": {
      "text/html": [
       "<style  type=\"text/css\" >\n",
       "#T_9910e_row0_col0{\n",
       "            background-color:  #d7e6f5;\n",
       "            color:  #000000;\n",
       "        }#T_9910e_row0_col1{\n",
       "            background-color:  #c7dcef;\n",
       "            color:  #000000;\n",
       "        }#T_9910e_row0_col2,#T_9910e_row4_col0,#T_9910e_row4_col1{\n",
       "            background-color:  #08306b;\n",
       "            color:  #f1f1f1;\n",
       "        }#T_9910e_row1_col0{\n",
       "            background-color:  #f3f8fe;\n",
       "            color:  #000000;\n",
       "        }#T_9910e_row1_col1{\n",
       "            background-color:  #f2f8fd;\n",
       "            color:  #000000;\n",
       "        }#T_9910e_row1_col2{\n",
       "            background-color:  #dce9f6;\n",
       "            color:  #000000;\n",
       "        }#T_9910e_row2_col0,#T_9910e_row2_col1,#T_9910e_row2_col2{\n",
       "            background-color:  #f7fbff;\n",
       "            color:  #000000;\n",
       "        }#T_9910e_row3_col0{\n",
       "            background-color:  #bcd7eb;\n",
       "            color:  #000000;\n",
       "        }#T_9910e_row3_col1{\n",
       "            background-color:  #9fcae1;\n",
       "            color:  #000000;\n",
       "        }#T_9910e_row3_col2{\n",
       "            background-color:  #0b559f;\n",
       "            color:  #f1f1f1;\n",
       "        }#T_9910e_row4_col2{\n",
       "            background-color:  #b7d4ea;\n",
       "            color:  #000000;\n",
       "        }</style><table id=\"T_9910e_\" ><thead>    <tr>        <th class=\"blank level0\" ></th>        <th class=\"col_heading level0 col0\" >Всего заемщиков</th>        <th class=\"col_heading level0 col1\" >Всего должников</th>        <th class=\"col_heading level0 col2\" >Доля должников</th>    </tr>    <tr>        <th class=\"index_name level0\" >family_status</th>        <th class=\"blank\" ></th>        <th class=\"blank\" ></th>        <th class=\"blank\" ></th>    </tr></thead><tbody>\n",
       "                <tr>\n",
       "                        <th id=\"T_9910e_level0_row0\" class=\"row_heading level0 row0\" >Не женат / не замужем</th>\n",
       "                        <td id=\"T_9910e_row0_col0\" class=\"data row0 col0\" >2796.000</td>\n",
       "                        <td id=\"T_9910e_row0_col1\" class=\"data row0 col1\" >273.000</td>\n",
       "                        <td id=\"T_9910e_row0_col2\" class=\"data row0 col2\" >0.098</td>\n",
       "            </tr>\n",
       "            <tr>\n",
       "                        <th id=\"T_9910e_level0_row1\" class=\"row_heading level0 row1\" >в разводе</th>\n",
       "                        <td id=\"T_9910e_row1_col0\" class=\"data row1 col0\" >1189.000</td>\n",
       "                        <td id=\"T_9910e_row1_col1\" class=\"data row1 col1\" >84.000</td>\n",
       "                        <td id=\"T_9910e_row1_col2\" class=\"data row1 col2\" >0.071</td>\n",
       "            </tr>\n",
       "            <tr>\n",
       "                        <th id=\"T_9910e_level0_row2\" class=\"row_heading level0 row2\" >вдовец / вдова</th>\n",
       "                        <td id=\"T_9910e_row2_col0\" class=\"data row2 col0\" >951.000</td>\n",
       "                        <td id=\"T_9910e_row2_col1\" class=\"data row2 col1\" >63.000</td>\n",
       "                        <td id=\"T_9910e_row2_col2\" class=\"data row2 col2\" >0.066</td>\n",
       "            </tr>\n",
       "            <tr>\n",
       "                        <th id=\"T_9910e_level0_row3\" class=\"row_heading level0 row3\" >гражданский брак</th>\n",
       "                        <td id=\"T_9910e_row3_col0\" class=\"data row3 col0\" >4134.000</td>\n",
       "                        <td id=\"T_9910e_row3_col1\" class=\"data row3 col1\" >385.000</td>\n",
       "                        <td id=\"T_9910e_row3_col2\" class=\"data row3 col2\" >0.093</td>\n",
       "            </tr>\n",
       "            <tr>\n",
       "                        <th id=\"T_9910e_level0_row4\" class=\"row_heading level0 row4\" >женат / замужем</th>\n",
       "                        <td id=\"T_9910e_row4_col0\" class=\"data row4 col0\" >12261.000</td>\n",
       "                        <td id=\"T_9910e_row4_col1\" class=\"data row4 col1\" >927.000</td>\n",
       "                        <td id=\"T_9910e_row4_col2\" class=\"data row4 col2\" >0.076</td>\n",
       "            </tr>\n",
       "    </tbody></table>"
      ],
      "text/plain": [
       "<pandas.io.formats.style.Styler at 0x7f8700bf3850>"
      ]
     },
     "metadata": {},
     "output_type": "display_data"
    }
   ],
   "source": [
    "que('family_status')"
   ]
  },
  {
   "cell_type": "markdown",
   "id": "d433e97e",
   "metadata": {},
   "source": [
    "<font color='Blue'><b> **Выводы:    \n",
    "    •\tодинокие заемщики без семьи (family_status = \"Не женат/не замужем\") имеют наибольшую долю просрочек по кредиту 0.098;   \n",
    "    •   следом идут заемщики находящиеся в гражданском браке с долей просрочек по кредиту 0.093;  \n",
    "    •\tнаименьшая доля просрочек 0.066 по кредиту выявлена у овдовевших супругов (family_status = \"вдовец / вдова\").** </b></font>"
   ]
  },
  {
   "cell_type": "markdown",
   "id": "dec477a7",
   "metadata": {},
   "source": [
    "#### 3.3 Есть ли зависимость между уровнем дохода и возвратом кредита в срок?"
   ]
  },
  {
   "cell_type": "markdown",
   "id": "7a675a68",
   "metadata": {},
   "source": [
    "<font color='Blue'><b> **Исследуем зависимость между уровнем дохода и возвратом кредита в срок.** </b></font>"
   ]
  },
  {
   "cell_type": "code",
   "execution_count": 26,
   "id": "2e13255e",
   "metadata": {},
   "outputs": [
    {
     "data": {
      "text/html": [
       "<style  type=\"text/css\" >\n",
       "#T_ec69e_row0_col0,#T_ec69e_row0_col1,#T_ec69e_row3_col2,#T_ec69e_row4_col0,#T_ec69e_row4_col1{\n",
       "            background-color:  #f7fbff;\n",
       "            color:  #000000;\n",
       "        }#T_ec69e_row0_col2{\n",
       "            background-color:  #3c8cc3;\n",
       "            color:  #000000;\n",
       "        }#T_ec69e_row1_col0{\n",
       "            background-color:  #b2d2e8;\n",
       "            color:  #000000;\n",
       "        }#T_ec69e_row1_col1{\n",
       "            background-color:  #c3daee;\n",
       "            color:  #000000;\n",
       "        }#T_ec69e_row1_col2{\n",
       "            background-color:  #aacfe5;\n",
       "            color:  #000000;\n",
       "        }#T_ec69e_row2_col0,#T_ec69e_row2_col1,#T_ec69e_row4_col2{\n",
       "            background-color:  #08306b;\n",
       "            color:  #f1f1f1;\n",
       "        }#T_ec69e_row2_col2{\n",
       "            background-color:  #1562a9;\n",
       "            color:  #f1f1f1;\n",
       "        }#T_ec69e_row3_col0{\n",
       "            background-color:  #f3f8fe;\n",
       "            color:  #000000;\n",
       "        }#T_ec69e_row3_col1{\n",
       "            background-color:  #f5f9fe;\n",
       "            color:  #000000;\n",
       "        }</style><table id=\"T_ec69e_\" ><thead>    <tr>        <th class=\"blank level0\" ></th>        <th class=\"col_heading level0 col0\" >Всего заемщиков</th>        <th class=\"col_heading level0 col1\" >Всего должников</th>        <th class=\"col_heading level0 col2\" >Доля должников</th>    </tr>    <tr>        <th class=\"index_name level0\" >total_income_category</th>        <th class=\"blank\" ></th>        <th class=\"blank\" ></th>        <th class=\"blank\" ></th>    </tr></thead><tbody>\n",
       "                <tr>\n",
       "                        <th id=\"T_ec69e_level0_row0\" class=\"row_heading level0 row0\" >A</th>\n",
       "                        <td id=\"T_ec69e_row0_col0\" class=\"data row0 col0\" >25.000</td>\n",
       "                        <td id=\"T_ec69e_row0_col1\" class=\"data row0 col1\" >2.000</td>\n",
       "                        <td id=\"T_ec69e_row0_col2\" class=\"data row0 col2\" >0.080</td>\n",
       "            </tr>\n",
       "            <tr>\n",
       "                        <th id=\"T_ec69e_level0_row1\" class=\"row_heading level0 row1\" >B</th>\n",
       "                        <td id=\"T_ec69e_row1_col0\" class=\"data row1 col0\" >5014.000</td>\n",
       "                        <td id=\"T_ec69e_row1_col1\" class=\"data row1 col1\" >354.000</td>\n",
       "                        <td id=\"T_ec69e_row1_col2\" class=\"data row1 col2\" >0.071</td>\n",
       "            </tr>\n",
       "            <tr>\n",
       "                        <th id=\"T_ec69e_level0_row2\" class=\"row_heading level0 row2\" >C</th>\n",
       "                        <td id=\"T_ec69e_row2_col0\" class=\"data row2 col0\" >15921.000</td>\n",
       "                        <td id=\"T_ec69e_row2_col1\" class=\"data row2 col1\" >1353.000</td>\n",
       "                        <td id=\"T_ec69e_row2_col2\" class=\"data row2 col2\" >0.085</td>\n",
       "            </tr>\n",
       "            <tr>\n",
       "                        <th id=\"T_ec69e_level0_row3\" class=\"row_heading level0 row3\" >D</th>\n",
       "                        <td id=\"T_ec69e_row3_col0\" class=\"data row3 col0\" >349.000</td>\n",
       "                        <td id=\"T_ec69e_row3_col1\" class=\"data row3 col1\" >21.000</td>\n",
       "                        <td id=\"T_ec69e_row3_col2\" class=\"data row3 col2\" >0.060</td>\n",
       "            </tr>\n",
       "            <tr>\n",
       "                        <th id=\"T_ec69e_level0_row4\" class=\"row_heading level0 row4\" >E</th>\n",
       "                        <td id=\"T_ec69e_row4_col0\" class=\"data row4 col0\" >22.000</td>\n",
       "                        <td id=\"T_ec69e_row4_col1\" class=\"data row4 col1\" >2.000</td>\n",
       "                        <td id=\"T_ec69e_row4_col2\" class=\"data row4 col2\" >0.091</td>\n",
       "            </tr>\n",
       "    </tbody></table>"
      ],
      "text/plain": [
       "<pandas.io.formats.style.Styler at 0x7f872184aee0>"
      ]
     },
     "metadata": {},
     "output_type": "display_data"
    }
   ],
   "source": [
    "que('total_income_category')"
   ]
  },
  {
   "cell_type": "markdown",
   "id": "892c6745",
   "metadata": {},
   "source": [
    "<font color='Blue'><b> Выводы:    \n",
    "    Данные представленные выборки несбалансированные и мы группировали их ранее по диапазонам в 4 категории. Используя метод .qcut проведем детальный анализ используя цикл. Данный метод делит группы на равные по количеству заемщиков в каждой. Будем делить категории на части от 3 до 10. Постарамся сузив диапазон исследования, уточнить диапазон доходов самых неблагонадежных клиентов.\n",
    " </b></font>"
   ]
  },
  {
   "cell_type": "code",
   "execution_count": 27,
   "id": "3d2370d6",
   "metadata": {
    "scrolled": false
   },
   "outputs": [
    {
     "data": {
      "text/html": [
       "<style  type=\"text/css\" >\n",
       "#T_f0b4f_row0_col0{\n",
       "            background-color:  #69add5;\n",
       "            color:  #000000;\n",
       "        }#T_f0b4f_row0_col1{\n",
       "            background-color:  #5da5d1;\n",
       "            color:  #000000;\n",
       "        }#T_f0b4f_row0_col2{\n",
       "            background-color:  #58a1cf;\n",
       "            color:  #000000;\n",
       "        }#T_f0b4f_row1_col0,#T_f0b4f_row1_col1,#T_f0b4f_row1_col2{\n",
       "            background-color:  #08306b;\n",
       "            color:  #f1f1f1;\n",
       "        }#T_f0b4f_row2_col0,#T_f0b4f_row2_col1,#T_f0b4f_row2_col2{\n",
       "            background-color:  #f7fbff;\n",
       "            color:  #000000;\n",
       "        }</style><table id=\"T_f0b4f_\" ><thead>    <tr>        <th class=\"blank level0\" ></th>        <th class=\"col_heading level0 col0\" >Всего заемщиков</th>        <th class=\"col_heading level0 col1\" >Всего должников</th>        <th class=\"col_heading level0 col2\" >Доля должников</th>    </tr>    <tr>        <th class=\"index_name level0\" >new_category</th>        <th class=\"blank\" ></th>        <th class=\"blank\" ></th>        <th class=\"blank\" ></th>    </tr></thead><tbody>\n",
       "                <tr>\n",
       "                        <th id=\"T_f0b4f_level0_row0\" class=\"row_heading level0 row0\" >(20666.0, 119218.0]</th>\n",
       "                        <td id=\"T_f0b4f_row0_col0\" class=\"data row0 col0\" >7111.000</td>\n",
       "                        <td id=\"T_f0b4f_row0_col1\" class=\"data row0 col1\" >580.000</td>\n",
       "                        <td id=\"T_f0b4f_row0_col2\" class=\"data row0 col2\" >0.082</td>\n",
       "            </tr>\n",
       "            <tr>\n",
       "                        <th id=\"T_f0b4f_level0_row1\" class=\"row_heading level0 row1\" >(119218.0, 172357.0]</th>\n",
       "                        <td id=\"T_f0b4f_row1_col0\" class=\"data row1 col0\" >7238.000</td>\n",
       "                        <td id=\"T_f0b4f_row1_col1\" class=\"data row1 col1\" >627.000</td>\n",
       "                        <td id=\"T_f0b4f_row1_col2\" class=\"data row1 col2\" >0.087</td>\n",
       "            </tr>\n",
       "            <tr>\n",
       "                        <th id=\"T_f0b4f_level0_row2\" class=\"row_heading level0 row2\" >(172357.0, 2265604.0]</th>\n",
       "                        <td id=\"T_f0b4f_row2_col0\" class=\"data row2 col0\" >6982.000</td>\n",
       "                        <td id=\"T_f0b4f_row2_col1\" class=\"data row2 col1\" >525.000</td>\n",
       "                        <td id=\"T_f0b4f_row2_col2\" class=\"data row2 col2\" >0.075</td>\n",
       "            </tr>\n",
       "    </tbody></table>"
      ],
      "text/plain": [
       "<pandas.io.formats.style.Styler at 0x7f8708e79940>"
      ]
     },
     "metadata": {},
     "output_type": "display_data"
    },
    {
     "data": {
      "text/html": [
       "<style  type=\"text/css\" >\n",
       "#T_40ce0_row0_col0{\n",
       "            background-color:  #6aaed6;\n",
       "            color:  #000000;\n",
       "        }#T_40ce0_row0_col1{\n",
       "            background-color:  #7ab6d9;\n",
       "            color:  #000000;\n",
       "        }#T_40ce0_row0_col2{\n",
       "            background-color:  #65aad4;\n",
       "            color:  #000000;\n",
       "        }#T_40ce0_row1_col0,#T_40ce0_row1_col1,#T_40ce0_row1_col2{\n",
       "            background-color:  #08306b;\n",
       "            color:  #f1f1f1;\n",
       "        }#T_40ce0_row2_col0,#T_40ce0_row3_col1,#T_40ce0_row3_col2{\n",
       "            background-color:  #f7fbff;\n",
       "            color:  #000000;\n",
       "        }#T_40ce0_row2_col1{\n",
       "            background-color:  #3f8fc5;\n",
       "            color:  #000000;\n",
       "        }#T_40ce0_row2_col2{\n",
       "            background-color:  #125ea6;\n",
       "            color:  #f1f1f1;\n",
       "        }#T_40ce0_row3_col0{\n",
       "            background-color:  #6dafd7;\n",
       "            color:  #000000;\n",
       "        }</style><table id=\"T_40ce0_\" ><thead>    <tr>        <th class=\"blank level0\" ></th>        <th class=\"col_heading level0 col0\" >Всего заемщиков</th>        <th class=\"col_heading level0 col1\" >Всего должников</th>        <th class=\"col_heading level0 col2\" >Доля должников</th>    </tr>    <tr>        <th class=\"index_name level0\" >new_category</th>        <th class=\"blank\" ></th>        <th class=\"blank\" ></th>        <th class=\"blank\" ></th>    </tr></thead><tbody>\n",
       "                <tr>\n",
       "                        <th id=\"T_40ce0_level0_row0\" class=\"row_heading level0 row0\" >(20666.0, 107507.0]</th>\n",
       "                        <td id=\"T_40ce0_row0_col0\" class=\"data row0 col0\" >5333.000</td>\n",
       "                        <td id=\"T_40ce0_row0_col1\" class=\"data row0 col1\" >427.000</td>\n",
       "                        <td id=\"T_40ce0_row0_col2\" class=\"data row0 col2\" >0.080</td>\n",
       "            </tr>\n",
       "            <tr>\n",
       "                        <th id=\"T_40ce0_level0_row1\" class=\"row_heading level0 row1\" >(107507.0, 142594.0]</th>\n",
       "                        <td id=\"T_40ce0_row1_col0\" class=\"data row1 col0\" >5450.000</td>\n",
       "                        <td id=\"T_40ce0_row1_col1\" class=\"data row1 col1\" >480.000</td>\n",
       "                        <td id=\"T_40ce0_row1_col2\" class=\"data row1 col2\" >0.088</td>\n",
       "            </tr>\n",
       "            <tr>\n",
       "                        <th id=\"T_40ce0_level0_row2\" class=\"row_heading level0 row2\" >(142594.0, 195842.0]</th>\n",
       "                        <td id=\"T_40ce0_row2_col0\" class=\"data row2 col0\" >5216.000</td>\n",
       "                        <td id=\"T_40ce0_row2_col1\" class=\"data row2 col1\" >444.000</td>\n",
       "                        <td id=\"T_40ce0_row2_col2\" class=\"data row2 col2\" >0.085</td>\n",
       "            </tr>\n",
       "            <tr>\n",
       "                        <th id=\"T_40ce0_level0_row3\" class=\"row_heading level0 row3\" >(195842.0, 2265604.0]</th>\n",
       "                        <td id=\"T_40ce0_row3_col0\" class=\"data row3 col0\" >5332.000</td>\n",
       "                        <td id=\"T_40ce0_row3_col1\" class=\"data row3 col1\" >381.000</td>\n",
       "                        <td id=\"T_40ce0_row3_col2\" class=\"data row3 col2\" >0.071</td>\n",
       "            </tr>\n",
       "    </tbody></table>"
      ],
      "text/plain": [
       "<pandas.io.formats.style.Styler at 0x7f872184a8e0>"
      ]
     },
     "metadata": {},
     "output_type": "display_data"
    },
    {
     "data": {
      "text/html": [
       "<style  type=\"text/css\" >\n",
       "#T_4ae9b_row0_col0,#T_4ae9b_row2_col1,#T_4ae9b_row2_col2{\n",
       "            background-color:  #08306b;\n",
       "            color:  #f1f1f1;\n",
       "        }#T_4ae9b_row0_col1,#T_4ae9b_row0_col2{\n",
       "            background-color:  #4896c8;\n",
       "            color:  #000000;\n",
       "        }#T_4ae9b_row1_col0,#T_4ae9b_row2_col0,#T_4ae9b_row3_col0,#T_4ae9b_row4_col0,#T_4ae9b_row4_col1,#T_4ae9b_row4_col2{\n",
       "            background-color:  #f7fbff;\n",
       "            color:  #000000;\n",
       "        }#T_4ae9b_row1_col1,#T_4ae9b_row1_col2,#T_4ae9b_row3_col1,#T_4ae9b_row3_col2{\n",
       "            background-color:  #1764ab;\n",
       "            color:  #f1f1f1;\n",
       "        }</style><table id=\"T_4ae9b_\" ><thead>    <tr>        <th class=\"blank level0\" ></th>        <th class=\"col_heading level0 col0\" >Всего заемщиков</th>        <th class=\"col_heading level0 col1\" >Всего должников</th>        <th class=\"col_heading level0 col2\" >Доля должников</th>    </tr>    <tr>        <th class=\"index_name level0\" >new_category</th>        <th class=\"blank\" ></th>        <th class=\"blank\" ></th>        <th class=\"blank\" ></th>    </tr></thead><tbody>\n",
       "                <tr>\n",
       "                        <th id=\"T_4ae9b_level0_row0\" class=\"row_heading level0 row0\" >(20666.0, 98514.0]</th>\n",
       "                        <td id=\"T_4ae9b_row0_col0\" class=\"data row0 col0\" >4267.000</td>\n",
       "                        <td id=\"T_4ae9b_row0_col1\" class=\"data row0 col1\" >344.000</td>\n",
       "                        <td id=\"T_4ae9b_row0_col2\" class=\"data row0 col2\" >0.081</td>\n",
       "            </tr>\n",
       "            <tr>\n",
       "                        <th id=\"T_4ae9b_level0_row1\" class=\"row_heading level0 row1\" >(98514.0, 132113.0]</th>\n",
       "                        <td id=\"T_4ae9b_row1_col0\" class=\"data row1 col0\" >4266.000</td>\n",
       "                        <td id=\"T_4ae9b_row1_col1\" class=\"data row1 col1\" >358.000</td>\n",
       "                        <td id=\"T_4ae9b_row1_col2\" class=\"data row1 col2\" >0.084</td>\n",
       "            </tr>\n",
       "            <tr>\n",
       "                        <th id=\"T_4ae9b_level0_row2\" class=\"row_heading level0 row2\" >(132113.0, 161380.0]</th>\n",
       "                        <td id=\"T_4ae9b_row2_col0\" class=\"data row2 col0\" >4266.000</td>\n",
       "                        <td id=\"T_4ae9b_row2_col1\" class=\"data row2 col1\" >373.000</td>\n",
       "                        <td id=\"T_4ae9b_row2_col2\" class=\"data row2 col2\" >0.087</td>\n",
       "            </tr>\n",
       "            <tr>\n",
       "                        <th id=\"T_4ae9b_level0_row3\" class=\"row_heading level0 row3\" >(161380.0, 214604.0]</th>\n",
       "                        <td id=\"T_4ae9b_row3_col0\" class=\"data row3 col0\" >4266.000</td>\n",
       "                        <td id=\"T_4ae9b_row3_col1\" class=\"data row3 col1\" >358.000</td>\n",
       "                        <td id=\"T_4ae9b_row3_col2\" class=\"data row3 col2\" >0.084</td>\n",
       "            </tr>\n",
       "            <tr>\n",
       "                        <th id=\"T_4ae9b_level0_row4\" class=\"row_heading level0 row4\" >(214604.0, 2265604.0]</th>\n",
       "                        <td id=\"T_4ae9b_row4_col0\" class=\"data row4 col0\" >4266.000</td>\n",
       "                        <td id=\"T_4ae9b_row4_col1\" class=\"data row4 col1\" >299.000</td>\n",
       "                        <td id=\"T_4ae9b_row4_col2\" class=\"data row4 col2\" >0.070</td>\n",
       "            </tr>\n",
       "    </tbody></table>"
      ],
      "text/plain": [
       "<pandas.io.formats.style.Styler at 0x7f8700c309d0>"
      ]
     },
     "metadata": {},
     "output_type": "display_data"
    },
    {
     "data": {
      "text/html": [
       "<style  type=\"text/css\" >\n",
       "#T_bb360_row0_col0{\n",
       "            background-color:  #63a8d3;\n",
       "            color:  #000000;\n",
       "        }#T_bb360_row0_col1{\n",
       "            background-color:  #7ab6d9;\n",
       "            color:  #000000;\n",
       "        }#T_bb360_row0_col2{\n",
       "            background-color:  #60a7d2;\n",
       "            color:  #000000;\n",
       "        }#T_bb360_row1_col0,#T_bb360_row5_col0{\n",
       "            background-color:  #64a9d3;\n",
       "            color:  #000000;\n",
       "        }#T_bb360_row1_col1{\n",
       "            background-color:  #4e9acb;\n",
       "            color:  #000000;\n",
       "        }#T_bb360_row1_col2{\n",
       "            background-color:  #3383be;\n",
       "            color:  #000000;\n",
       "        }#T_bb360_row2_col0,#T_bb360_row2_col1,#T_bb360_row2_col2{\n",
       "            background-color:  #08306b;\n",
       "            color:  #f1f1f1;\n",
       "        }#T_bb360_row3_col0{\n",
       "            background-color:  #549fcd;\n",
       "            color:  #000000;\n",
       "        }#T_bb360_row3_col1{\n",
       "            background-color:  #3a8ac2;\n",
       "            color:  #000000;\n",
       "        }#T_bb360_row3_col2{\n",
       "            background-color:  #2373b6;\n",
       "            color:  #f1f1f1;\n",
       "        }#T_bb360_row4_col0,#T_bb360_row5_col1,#T_bb360_row5_col2{\n",
       "            background-color:  #f7fbff;\n",
       "            color:  #000000;\n",
       "        }#T_bb360_row4_col1{\n",
       "            background-color:  #a8cee4;\n",
       "            color:  #000000;\n",
       "        }#T_bb360_row4_col2{\n",
       "            background-color:  #5aa2cf;\n",
       "            color:  #000000;\n",
       "        }</style><table id=\"T_bb360_\" ><thead>    <tr>        <th class=\"blank level0\" ></th>        <th class=\"col_heading level0 col0\" >Всего заемщиков</th>        <th class=\"col_heading level0 col1\" >Всего должников</th>        <th class=\"col_heading level0 col2\" >Доля должников</th>    </tr>    <tr>        <th class=\"index_name level0\" >new_category</th>        <th class=\"blank\" ></th>        <th class=\"blank\" ></th>        <th class=\"blank\" ></th>    </tr></thead><tbody>\n",
       "                <tr>\n",
       "                        <th id=\"T_bb360_level0_row0\" class=\"row_heading level0 row0\" >(20666.0, 92092.0]</th>\n",
       "                        <td id=\"T_bb360_row0_col0\" class=\"data row0 col0\" >3556.000</td>\n",
       "                        <td id=\"T_bb360_row0_col1\" class=\"data row0 col1\" >285.000</td>\n",
       "                        <td id=\"T_bb360_row0_col2\" class=\"data row0 col2\" >0.080</td>\n",
       "            </tr>\n",
       "            <tr>\n",
       "                        <th id=\"T_bb360_level0_row1\" class=\"row_heading level0 row1\" >(92092.0, 119218.0]</th>\n",
       "                        <td id=\"T_bb360_row1_col0\" class=\"data row1 col0\" >3555.000</td>\n",
       "                        <td id=\"T_bb360_row1_col1\" class=\"data row1 col1\" >295.000</td>\n",
       "                        <td id=\"T_bb360_row1_col2\" class=\"data row1 col2\" >0.083</td>\n",
       "            </tr>\n",
       "            <tr>\n",
       "                        <th id=\"T_bb360_level0_row2\" class=\"row_heading level0 row2\" >(119218.0, 142594.0]</th>\n",
       "                        <td id=\"T_bb360_row2_col0\" class=\"data row2 col0\" >3672.000</td>\n",
       "                        <td id=\"T_bb360_row2_col1\" class=\"data row2 col1\" >327.000</td>\n",
       "                        <td id=\"T_bb360_row2_col2\" class=\"data row2 col2\" >0.089</td>\n",
       "            </tr>\n",
       "            <tr>\n",
       "                        <th id=\"T_bb360_level0_row3\" class=\"row_heading level0 row3\" >(142594.0, 172357.0]</th>\n",
       "                        <td id=\"T_bb360_row3_col0\" class=\"data row3 col0\" >3566.000</td>\n",
       "                        <td id=\"T_bb360_row3_col1\" class=\"data row3 col1\" >300.000</td>\n",
       "                        <td id=\"T_bb360_row3_col2\" class=\"data row3 col2\" >0.084</td>\n",
       "            </tr>\n",
       "            <tr>\n",
       "                        <th id=\"T_bb360_level0_row4\" class=\"row_heading level0 row4\" >(172357.0, 228893.0]</th>\n",
       "                        <td id=\"T_bb360_row4_col0\" class=\"data row4 col0\" >3427.000</td>\n",
       "                        <td id=\"T_bb360_row4_col1\" class=\"data row4 col1\" >276.000</td>\n",
       "                        <td id=\"T_bb360_row4_col2\" class=\"data row4 col2\" >0.081</td>\n",
       "            </tr>\n",
       "            <tr>\n",
       "                        <th id=\"T_bb360_level0_row5\" class=\"row_heading level0 row5\" >(228893.0, 2265604.0]</th>\n",
       "                        <td id=\"T_bb360_row5_col0\" class=\"data row5 col0\" >3555.000</td>\n",
       "                        <td id=\"T_bb360_row5_col1\" class=\"data row5 col1\" >249.000</td>\n",
       "                        <td id=\"T_bb360_row5_col2\" class=\"data row5 col2\" >0.070</td>\n",
       "            </tr>\n",
       "    </tbody></table>"
      ],
      "text/plain": [
       "<pandas.io.formats.style.Styler at 0x7f8700cc3e80>"
      ]
     },
     "metadata": {},
     "output_type": "display_data"
    },
    {
     "data": {
      "text/html": [
       "<style  type=\"text/css\" >\n",
       "#T_8bf8d_row0_col0,#T_8bf8d_row3_col1,#T_8bf8d_row3_col2,#T_8bf8d_row6_col0{\n",
       "            background-color:  #08306b;\n",
       "            color:  #f1f1f1;\n",
       "        }#T_8bf8d_row0_col1,#T_8bf8d_row0_col2{\n",
       "            background-color:  #8dc1dd;\n",
       "            color:  #000000;\n",
       "        }#T_8bf8d_row1_col0,#T_8bf8d_row2_col0,#T_8bf8d_row3_col0,#T_8bf8d_row4_col0,#T_8bf8d_row5_col0,#T_8bf8d_row6_col1,#T_8bf8d_row6_col2{\n",
       "            background-color:  #f7fbff;\n",
       "            color:  #000000;\n",
       "        }#T_8bf8d_row1_col1,#T_8bf8d_row1_col2{\n",
       "            background-color:  #083979;\n",
       "            color:  #f1f1f1;\n",
       "        }#T_8bf8d_row2_col1,#T_8bf8d_row2_col2{\n",
       "            background-color:  #083471;\n",
       "            color:  #f1f1f1;\n",
       "        }#T_8bf8d_row4_col1,#T_8bf8d_row4_col2{\n",
       "            background-color:  #09529d;\n",
       "            color:  #f1f1f1;\n",
       "        }#T_8bf8d_row5_col1,#T_8bf8d_row5_col2{\n",
       "            background-color:  #4f9bcb;\n",
       "            color:  #000000;\n",
       "        }</style><table id=\"T_8bf8d_\" ><thead>    <tr>        <th class=\"blank level0\" ></th>        <th class=\"col_heading level0 col0\" >Всего заемщиков</th>        <th class=\"col_heading level0 col1\" >Всего должников</th>        <th class=\"col_heading level0 col2\" >Доля должников</th>    </tr>    <tr>        <th class=\"index_name level0\" >new_category</th>        <th class=\"blank\" ></th>        <th class=\"blank\" ></th>        <th class=\"blank\" ></th>    </tr></thead><tbody>\n",
       "                <tr>\n",
       "                        <th id=\"T_8bf8d_level0_row0\" class=\"row_heading level0 row0\" >(20666.0, 87287.0]</th>\n",
       "                        <td id=\"T_8bf8d_row0_col0\" class=\"data row0 col0\" >3048.000</td>\n",
       "                        <td id=\"T_8bf8d_row0_col1\" class=\"data row0 col1\" >233.000</td>\n",
       "                        <td id=\"T_8bf8d_row0_col2\" class=\"data row0 col2\" >0.076</td>\n",
       "            </tr>\n",
       "            <tr>\n",
       "                        <th id=\"T_8bf8d_level0_row1\" class=\"row_heading level0 row1\" >(87287.0, 113563.0]</th>\n",
       "                        <td id=\"T_8bf8d_row1_col0\" class=\"data row1 col0\" >3047.000</td>\n",
       "                        <td id=\"T_8bf8d_row1_col1\" class=\"data row1 col1\" >262.000</td>\n",
       "                        <td id=\"T_8bf8d_row1_col2\" class=\"data row1 col2\" >0.086</td>\n",
       "            </tr>\n",
       "            <tr>\n",
       "                        <th id=\"T_8bf8d_level0_row2\" class=\"row_heading level0 row2\" >(113563.0, 137465.0]</th>\n",
       "                        <td id=\"T_8bf8d_row2_col0\" class=\"data row2 col0\" >3047.000</td>\n",
       "                        <td id=\"T_8bf8d_row2_col1\" class=\"data row2 col1\" >263.000</td>\n",
       "                        <td id=\"T_8bf8d_row2_col2\" class=\"data row2 col2\" >0.086</td>\n",
       "            </tr>\n",
       "            <tr>\n",
       "                        <th id=\"T_8bf8d_level0_row3\" class=\"row_heading level0 row3\" >(137465.0, 155314.0]</th>\n",
       "                        <td id=\"T_8bf8d_row3_col0\" class=\"data row3 col0\" >3047.000</td>\n",
       "                        <td id=\"T_8bf8d_row3_col1\" class=\"data row3 col1\" >264.000</td>\n",
       "                        <td id=\"T_8bf8d_row3_col2\" class=\"data row3 col2\" >0.087</td>\n",
       "            </tr>\n",
       "            <tr>\n",
       "                        <th id=\"T_8bf8d_level0_row4\" class=\"row_heading level0 row4\" >(155314.0, 184554.0]</th>\n",
       "                        <td id=\"T_8bf8d_row4_col0\" class=\"data row4 col0\" >3047.000</td>\n",
       "                        <td id=\"T_8bf8d_row4_col1\" class=\"data row4 col1\" >257.000</td>\n",
       "                        <td id=\"T_8bf8d_row4_col2\" class=\"data row4 col2\" >0.084</td>\n",
       "            </tr>\n",
       "            <tr>\n",
       "                        <th id=\"T_8bf8d_level0_row5\" class=\"row_heading level0 row5\" >(184554.0, 242009.0]</th>\n",
       "                        <td id=\"T_8bf8d_row5_col0\" class=\"data row5 col0\" >3047.000</td>\n",
       "                        <td id=\"T_8bf8d_row5_col1\" class=\"data row5 col1\" >242.000</td>\n",
       "                        <td id=\"T_8bf8d_row5_col2\" class=\"data row5 col2\" >0.079</td>\n",
       "            </tr>\n",
       "            <tr>\n",
       "                        <th id=\"T_8bf8d_level0_row6\" class=\"row_heading level0 row6\" >(242009.0, 2265604.0]</th>\n",
       "                        <td id=\"T_8bf8d_row6_col0\" class=\"data row6 col0\" >3048.000</td>\n",
       "                        <td id=\"T_8bf8d_row6_col1\" class=\"data row6 col1\" >211.000</td>\n",
       "                        <td id=\"T_8bf8d_row6_col2\" class=\"data row6 col2\" >0.069</td>\n",
       "            </tr>\n",
       "    </tbody></table>"
      ],
      "text/plain": [
       "<pandas.io.formats.style.Styler at 0x7f8708ea9a30>"
      ]
     },
     "metadata": {},
     "output_type": "display_data"
    },
    {
     "data": {
      "text/html": [
       "<style  type=\"text/css\" >\n",
       "#T_767df_row0_col0,#T_767df_row5_col0,#T_767df_row7_col0{\n",
       "            background-color:  #6aaed6;\n",
       "            color:  #000000;\n",
       "        }#T_767df_row0_col1{\n",
       "            background-color:  #aacfe5;\n",
       "            color:  #000000;\n",
       "        }#T_767df_row0_col2{\n",
       "            background-color:  #91c3de;\n",
       "            color:  #000000;\n",
       "        }#T_767df_row1_col0,#T_767df_row2_col0{\n",
       "            background-color:  #6caed6;\n",
       "            color:  #000000;\n",
       "        }#T_767df_row1_col1,#T_767df_row5_col1{\n",
       "            background-color:  #519ccc;\n",
       "            color:  #000000;\n",
       "        }#T_767df_row1_col2,#T_767df_row5_col2{\n",
       "            background-color:  #2f7fbc;\n",
       "            color:  #000000;\n",
       "        }#T_767df_row2_col1{\n",
       "            background-color:  #1c6ab0;\n",
       "            color:  #f1f1f1;\n",
       "        }#T_767df_row2_col2{\n",
       "            background-color:  #084285;\n",
       "            color:  #f1f1f1;\n",
       "        }#T_767df_row3_col0,#T_767df_row3_col1,#T_767df_row3_col2{\n",
       "            background-color:  #08306b;\n",
       "            color:  #f1f1f1;\n",
       "        }#T_767df_row4_col0,#T_767df_row7_col1,#T_767df_row7_col2{\n",
       "            background-color:  #f7fbff;\n",
       "            color:  #000000;\n",
       "        }#T_767df_row4_col1{\n",
       "            background-color:  #4695c8;\n",
       "            color:  #000000;\n",
       "        }#T_767df_row4_col2{\n",
       "            background-color:  #084184;\n",
       "            color:  #f1f1f1;\n",
       "        }#T_767df_row6_col0{\n",
       "            background-color:  #6dafd7;\n",
       "            color:  #000000;\n",
       "        }#T_767df_row6_col1{\n",
       "            background-color:  #d4e4f4;\n",
       "            color:  #000000;\n",
       "        }#T_767df_row6_col2{\n",
       "            background-color:  #cddff1;\n",
       "            color:  #000000;\n",
       "        }</style><table id=\"T_767df_\" ><thead>    <tr>        <th class=\"blank level0\" ></th>        <th class=\"col_heading level0 col0\" >Всего заемщиков</th>        <th class=\"col_heading level0 col1\" >Всего должников</th>        <th class=\"col_heading level0 col2\" >Доля должников</th>    </tr>    <tr>        <th class=\"index_name level0\" >new_category</th>        <th class=\"blank\" ></th>        <th class=\"blank\" ></th>        <th class=\"blank\" ></th>    </tr></thead><tbody>\n",
       "                <tr>\n",
       "                        <th id=\"T_767df_level0_row0\" class=\"row_heading level0 row0\" >(20666.0, 83837.0]</th>\n",
       "                        <td id=\"T_767df_row0_col0\" class=\"data row0 col0\" >2667.000</td>\n",
       "                        <td id=\"T_767df_row0_col1\" class=\"data row0 col1\" >206.000</td>\n",
       "                        <td id=\"T_767df_row0_col2\" class=\"data row0 col2\" >0.077</td>\n",
       "            </tr>\n",
       "            <tr>\n",
       "                        <th id=\"T_767df_level0_row1\" class=\"row_heading level0 row1\" >(83837.0, 107507.0]</th>\n",
       "                        <td id=\"T_767df_row1_col0\" class=\"data row1 col0\" >2666.000</td>\n",
       "                        <td id=\"T_767df_row1_col1\" class=\"data row1 col1\" >221.000</td>\n",
       "                        <td id=\"T_767df_row1_col2\" class=\"data row1 col2\" >0.083</td>\n",
       "            </tr>\n",
       "            <tr>\n",
       "                        <th id=\"T_767df_level0_row2\" class=\"row_heading level0 row2\" >(107507.0, 127546.0]</th>\n",
       "                        <td id=\"T_767df_row2_col0\" class=\"data row2 col0\" >2666.000</td>\n",
       "                        <td id=\"T_767df_row2_col1\" class=\"data row2 col1\" >233.000</td>\n",
       "                        <td id=\"T_767df_row2_col2\" class=\"data row2 col2\" >0.087</td>\n",
       "            </tr>\n",
       "            <tr>\n",
       "                        <th id=\"T_767df_level0_row3\" class=\"row_heading level0 row3\" >(127546.0, 142594.0]</th>\n",
       "                        <td id=\"T_767df_row3_col0\" class=\"data row3 col0\" >2784.000</td>\n",
       "                        <td id=\"T_767df_row3_col1\" class=\"data row3 col1\" >247.000</td>\n",
       "                        <td id=\"T_767df_row3_col2\" class=\"data row3 col2\" >0.089</td>\n",
       "            </tr>\n",
       "            <tr>\n",
       "                        <th id=\"T_767df_level0_row4\" class=\"row_heading level0 row4\" >(142594.0, 166525.0]</th>\n",
       "                        <td id=\"T_767df_row4_col0\" class=\"data row4 col0\" >2549.000</td>\n",
       "                        <td id=\"T_767df_row4_col1\" class=\"data row4 col1\" >223.000</td>\n",
       "                        <td id=\"T_767df_row4_col2\" class=\"data row4 col2\" >0.087</td>\n",
       "            </tr>\n",
       "            <tr>\n",
       "                        <th id=\"T_767df_level0_row5\" class=\"row_heading level0 row5\" >(166525.0, 195842.0]</th>\n",
       "                        <td id=\"T_767df_row5_col0\" class=\"data row5 col0\" >2667.000</td>\n",
       "                        <td id=\"T_767df_row5_col1\" class=\"data row5 col1\" >221.000</td>\n",
       "                        <td id=\"T_767df_row5_col2\" class=\"data row5 col2\" >0.083</td>\n",
       "            </tr>\n",
       "            <tr>\n",
       "                        <th id=\"T_767df_level0_row6\" class=\"row_heading level0 row6\" >(195842.0, 254250.0]</th>\n",
       "                        <td id=\"T_767df_row6_col0\" class=\"data row6 col0\" >2665.000</td>\n",
       "                        <td id=\"T_767df_row6_col1\" class=\"data row6 col1\" >196.000</td>\n",
       "                        <td id=\"T_767df_row6_col2\" class=\"data row6 col2\" >0.074</td>\n",
       "            </tr>\n",
       "            <tr>\n",
       "                        <th id=\"T_767df_level0_row7\" class=\"row_heading level0 row7\" >(254250.0, 2265604.0]</th>\n",
       "                        <td id=\"T_767df_row7_col0\" class=\"data row7 col0\" >2667.000</td>\n",
       "                        <td id=\"T_767df_row7_col1\" class=\"data row7 col1\" >185.000</td>\n",
       "                        <td id=\"T_767df_row7_col2\" class=\"data row7 col2\" >0.069</td>\n",
       "            </tr>\n",
       "    </tbody></table>"
      ],
      "text/plain": [
       "<pandas.io.formats.style.Styler at 0x7f872184a8e0>"
      ]
     },
     "metadata": {},
     "output_type": "display_data"
    },
    {
     "data": {
      "text/html": [
       "<style  type=\"text/css\" >\n",
       "#T_565d4_row0_col0,#T_565d4_row7_col0{\n",
       "            background-color:  #69add5;\n",
       "            color:  #000000;\n",
       "        }#T_565d4_row0_col1{\n",
       "            background-color:  #afd1e7;\n",
       "            color:  #000000;\n",
       "        }#T_565d4_row0_col2{\n",
       "            background-color:  #b0d2e7;\n",
       "            color:  #000000;\n",
       "        }#T_565d4_row1_col0,#T_565d4_row2_col0,#T_565d4_row3_col0,#T_565d4_row4_col0,#T_565d4_row8_col0{\n",
       "            background-color:  #6aaed6;\n",
       "            color:  #000000;\n",
       "        }#T_565d4_row1_col1,#T_565d4_row1_col2{\n",
       "            background-color:  #56a0ce;\n",
       "            color:  #000000;\n",
       "        }#T_565d4_row2_col1,#T_565d4_row2_col2{\n",
       "            background-color:  #1c6ab0;\n",
       "            color:  #f1f1f1;\n",
       "        }#T_565d4_row3_col1,#T_565d4_row3_col2{\n",
       "            background-color:  #2474b7;\n",
       "            color:  #f1f1f1;\n",
       "        }#T_565d4_row4_col1,#T_565d4_row4_col2,#T_565d4_row5_col0{\n",
       "            background-color:  #08306b;\n",
       "            color:  #f1f1f1;\n",
       "        }#T_565d4_row5_col1{\n",
       "            background-color:  #1561a9;\n",
       "            color:  #f1f1f1;\n",
       "        }#T_565d4_row5_col2{\n",
       "            background-color:  #4695c8;\n",
       "            color:  #000000;\n",
       "        }#T_565d4_row6_col0,#T_565d4_row8_col1,#T_565d4_row8_col2{\n",
       "            background-color:  #f7fbff;\n",
       "            color:  #000000;\n",
       "        }#T_565d4_row6_col1{\n",
       "            background-color:  #4f9bcb;\n",
       "            color:  #000000;\n",
       "        }#T_565d4_row6_col2{\n",
       "            background-color:  #1865ac;\n",
       "            color:  #f1f1f1;\n",
       "        }#T_565d4_row7_col1,#T_565d4_row7_col2{\n",
       "            background-color:  #f0f6fd;\n",
       "            color:  #000000;\n",
       "        }</style><table id=\"T_565d4_\" ><thead>    <tr>        <th class=\"blank level0\" ></th>        <th class=\"col_heading level0 col0\" >Всего заемщиков</th>        <th class=\"col_heading level0 col1\" >Всего должников</th>        <th class=\"col_heading level0 col2\" >Доля должников</th>    </tr>    <tr>        <th class=\"index_name level0\" >new_category</th>        <th class=\"blank\" ></th>        <th class=\"blank\" ></th>        <th class=\"blank\" ></th>    </tr></thead><tbody>\n",
       "                <tr>\n",
       "                        <th id=\"T_565d4_level0_row0\" class=\"row_heading level0 row0\" >(20666.0, 80986.0]</th>\n",
       "                        <td id=\"T_565d4_row0_col0\" class=\"data row0 col0\" >2371.000</td>\n",
       "                        <td id=\"T_565d4_row0_col1\" class=\"data row0 col1\" >181.000</td>\n",
       "                        <td id=\"T_565d4_row0_col2\" class=\"data row0 col2\" >0.076</td>\n",
       "            </tr>\n",
       "            <tr>\n",
       "                        <th id=\"T_565d4_level0_row1\" class=\"row_heading level0 row1\" >(80986.0, 102464.0]</th>\n",
       "                        <td id=\"T_565d4_row1_col0\" class=\"data row1 col0\" >2370.000</td>\n",
       "                        <td id=\"T_565d4_row1_col1\" class=\"data row1 col1\" >194.000</td>\n",
       "                        <td id=\"T_565d4_row1_col2\" class=\"data row1 col2\" >0.082</td>\n",
       "            </tr>\n",
       "            <tr>\n",
       "                        <th id=\"T_565d4_level0_row2\" class=\"row_heading level0 row2\" >(102464.0, 119218.0]</th>\n",
       "                        <td id=\"T_565d4_row2_col0\" class=\"data row2 col0\" >2370.000</td>\n",
       "                        <td id=\"T_565d4_row2_col1\" class=\"data row2 col1\" >205.000</td>\n",
       "                        <td id=\"T_565d4_row2_col2\" class=\"data row2 col2\" >0.086</td>\n",
       "            </tr>\n",
       "            <tr>\n",
       "                        <th id=\"T_565d4_level0_row3\" class=\"row_heading level0 row3\" >(119218.0, 140476.0]</th>\n",
       "                        <td id=\"T_565d4_row3_col0\" class=\"data row3 col0\" >2370.000</td>\n",
       "                        <td id=\"T_565d4_row3_col1\" class=\"data row3 col1\" >203.000</td>\n",
       "                        <td id=\"T_565d4_row3_col2\" class=\"data row3 col2\" >0.086</td>\n",
       "            </tr>\n",
       "            <tr>\n",
       "                        <th id=\"T_565d4_level0_row4\" class=\"row_heading level0 row4\" >(140476.0, 151615.0]</th>\n",
       "                        <td id=\"T_565d4_row4_col0\" class=\"data row4 col0\" >2370.000</td>\n",
       "                        <td id=\"T_565d4_row4_col1\" class=\"data row4 col1\" >217.000</td>\n",
       "                        <td id=\"T_565d4_row4_col2\" class=\"data row4 col2\" >0.092</td>\n",
       "            </tr>\n",
       "            <tr>\n",
       "                        <th id=\"T_565d4_level0_row5\" class=\"row_heading level0 row5\" >(151615.0, 172357.0]</th>\n",
       "                        <td id=\"T_565d4_row5_col0\" class=\"data row5 col0\" >2498.000</td>\n",
       "                        <td id=\"T_565d4_row5_col1\" class=\"data row5 col1\" >207.000</td>\n",
       "                        <td id=\"T_565d4_row5_col2\" class=\"data row5 col2\" >0.083</td>\n",
       "            </tr>\n",
       "            <tr>\n",
       "                        <th id=\"T_565d4_level0_row6\" class=\"row_heading level0 row6\" >(172357.0, 204607.0]</th>\n",
       "                        <td id=\"T_565d4_row6_col0\" class=\"data row6 col0\" >2241.000</td>\n",
       "                        <td id=\"T_565d4_row6_col1\" class=\"data row6 col1\" >195.000</td>\n",
       "                        <td id=\"T_565d4_row6_col2\" class=\"data row6 col2\" >0.087</td>\n",
       "            </tr>\n",
       "            <tr>\n",
       "                        <th id=\"T_565d4_level0_row7\" class=\"row_heading level0 row7\" >(204607.0, 261859.0]</th>\n",
       "                        <td id=\"T_565d4_row7_col0\" class=\"data row7 col0\" >2371.000</td>\n",
       "                        <td id=\"T_565d4_row7_col1\" class=\"data row7 col1\" >166.000</td>\n",
       "                        <td id=\"T_565d4_row7_col2\" class=\"data row7 col2\" >0.070</td>\n",
       "            </tr>\n",
       "            <tr>\n",
       "                        <th id=\"T_565d4_level0_row8\" class=\"row_heading level0 row8\" >(261859.0, 2265604.0]</th>\n",
       "                        <td id=\"T_565d4_row8_col0\" class=\"data row8 col0\" >2370.000</td>\n",
       "                        <td id=\"T_565d4_row8_col1\" class=\"data row8 col1\" >164.000</td>\n",
       "                        <td id=\"T_565d4_row8_col2\" class=\"data row8 col2\" >0.069</td>\n",
       "            </tr>\n",
       "    </tbody></table>"
      ],
      "text/plain": [
       "<pandas.io.formats.style.Styler at 0x7f8708e9cdf0>"
      ]
     },
     "metadata": {},
     "output_type": "display_data"
    },
    {
     "data": {
      "text/html": [
       "<style  type=\"text/css\" >\n",
       "#T_2dad7_row0_col0{\n",
       "            background-color:  #69add5;\n",
       "            color:  #000000;\n",
       "        }#T_2dad7_row0_col1{\n",
       "            background-color:  #d8e7f5;\n",
       "            color:  #000000;\n",
       "        }#T_2dad7_row0_col2{\n",
       "            background-color:  #d1e2f3;\n",
       "            color:  #000000;\n",
       "        }#T_2dad7_row1_col0,#T_2dad7_row2_col0,#T_2dad7_row3_col0,#T_2dad7_row6_col0,#T_2dad7_row7_col0,#T_2dad7_row8_col0,#T_2dad7_row9_col0{\n",
       "            background-color:  #6aaed6;\n",
       "            color:  #000000;\n",
       "        }#T_2dad7_row1_col1{\n",
       "            background-color:  #3282be;\n",
       "            color:  #000000;\n",
       "        }#T_2dad7_row1_col2{\n",
       "            background-color:  #0e59a2;\n",
       "            color:  #f1f1f1;\n",
       "        }#T_2dad7_row2_col1{\n",
       "            background-color:  #63a8d3;\n",
       "            color:  #000000;\n",
       "        }#T_2dad7_row2_col2{\n",
       "            background-color:  #3c8cc3;\n",
       "            color:  #000000;\n",
       "        }#T_2dad7_row3_col1{\n",
       "            background-color:  #57a0ce;\n",
       "            color:  #000000;\n",
       "        }#T_2dad7_row3_col2{\n",
       "            background-color:  #3181bd;\n",
       "            color:  #000000;\n",
       "        }#T_2dad7_row4_col0,#T_2dad7_row4_col1,#T_2dad7_row4_col2{\n",
       "            background-color:  #08306b;\n",
       "            color:  #f1f1f1;\n",
       "        }#T_2dad7_row5_col0,#T_2dad7_row8_col1,#T_2dad7_row8_col2{\n",
       "            background-color:  #f7fbff;\n",
       "            color:  #000000;\n",
       "        }#T_2dad7_row5_col1{\n",
       "            background-color:  #a6cee4;\n",
       "            color:  #000000;\n",
       "        }#T_2dad7_row5_col2{\n",
       "            background-color:  #3d8dc4;\n",
       "            color:  #000000;\n",
       "        }#T_2dad7_row6_col1,#T_2dad7_row7_col1{\n",
       "            background-color:  #5ca4d0;\n",
       "            color:  #000000;\n",
       "        }#T_2dad7_row6_col2,#T_2dad7_row7_col2{\n",
       "            background-color:  #3686c0;\n",
       "            color:  #000000;\n",
       "        }#T_2dad7_row9_col1{\n",
       "            background-color:  #edf4fc;\n",
       "            color:  #000000;\n",
       "        }#T_2dad7_row9_col2{\n",
       "            background-color:  #eaf3fb;\n",
       "            color:  #000000;\n",
       "        }</style><table id=\"T_2dad7_\" ><thead>    <tr>        <th class=\"blank level0\" ></th>        <th class=\"col_heading level0 col0\" >Всего заемщиков</th>        <th class=\"col_heading level0 col1\" >Всего должников</th>        <th class=\"col_heading level0 col2\" >Доля должников</th>    </tr>    <tr>        <th class=\"index_name level0\" >new_category</th>        <th class=\"blank\" ></th>        <th class=\"blank\" ></th>        <th class=\"blank\" ></th>    </tr></thead><tbody>\n",
       "                <tr>\n",
       "                        <th id=\"T_2dad7_level0_row0\" class=\"row_heading level0 row0\" >(20666.0, 78710.0]</th>\n",
       "                        <td id=\"T_2dad7_row0_col0\" class=\"data row0 col0\" >2134.000</td>\n",
       "                        <td id=\"T_2dad7_row0_col1\" class=\"data row0 col1\" >157.000</td>\n",
       "                        <td id=\"T_2dad7_row0_col2\" class=\"data row0 col2\" >0.074</td>\n",
       "            </tr>\n",
       "            <tr>\n",
       "                        <th id=\"T_2dad7_level0_row1\" class=\"row_heading level0 row1\" >(78710.0, 98514.0]</th>\n",
       "                        <td id=\"T_2dad7_row1_col0\" class=\"data row1 col0\" >2133.000</td>\n",
       "                        <td id=\"T_2dad7_row1_col1\" class=\"data row1 col1\" >187.000</td>\n",
       "                        <td id=\"T_2dad7_row1_col2\" class=\"data row1 col2\" >0.088</td>\n",
       "            </tr>\n",
       "            <tr>\n",
       "                        <th id=\"T_2dad7_level0_row2\" class=\"row_heading level0 row2\" >(98514.0, 115973.0]</th>\n",
       "                        <td id=\"T_2dad7_row2_col0\" class=\"data row2 col0\" >2133.000</td>\n",
       "                        <td id=\"T_2dad7_row2_col1\" class=\"data row2 col1\" >178.000</td>\n",
       "                        <td id=\"T_2dad7_row2_col2\" class=\"data row2 col2\" >0.083</td>\n",
       "            </tr>\n",
       "            <tr>\n",
       "                        <th id=\"T_2dad7_level0_row3\" class=\"row_heading level0 row3\" >(115973.0, 132113.0]</th>\n",
       "                        <td id=\"T_2dad7_row3_col0\" class=\"data row3 col0\" >2133.000</td>\n",
       "                        <td id=\"T_2dad7_row3_col1\" class=\"data row3 col1\" >180.000</td>\n",
       "                        <td id=\"T_2dad7_row3_col2\" class=\"data row3 col2\" >0.084</td>\n",
       "            </tr>\n",
       "            <tr>\n",
       "                        <th id=\"T_2dad7_level0_row4\" class=\"row_heading level0 row4\" >(132113.0, 142594.0]</th>\n",
       "                        <td id=\"T_2dad7_row4_col0\" class=\"data row4 col0\" >2250.000</td>\n",
       "                        <td id=\"T_2dad7_row4_col1\" class=\"data row4 col1\" >205.000</td>\n",
       "                        <td id=\"T_2dad7_row4_col2\" class=\"data row4 col2\" >0.091</td>\n",
       "            </tr>\n",
       "            <tr>\n",
       "                        <th id=\"T_2dad7_level0_row5\" class=\"row_heading level0 row5\" >(142594.0, 161380.0]</th>\n",
       "                        <td id=\"T_2dad7_row5_col0\" class=\"data row5 col0\" >2016.000</td>\n",
       "                        <td id=\"T_2dad7_row5_col1\" class=\"data row5 col1\" >168.000</td>\n",
       "                        <td id=\"T_2dad7_row5_col2\" class=\"data row5 col2\" >0.083</td>\n",
       "            </tr>\n",
       "            <tr>\n",
       "                        <th id=\"T_2dad7_level0_row6\" class=\"row_heading level0 row6\" >(161380.0, 179844.0]</th>\n",
       "                        <td id=\"T_2dad7_row6_col0\" class=\"data row6 col0\" >2133.000</td>\n",
       "                        <td id=\"T_2dad7_row6_col1\" class=\"data row6 col1\" >179.000</td>\n",
       "                        <td id=\"T_2dad7_row6_col2\" class=\"data row6 col2\" >0.084</td>\n",
       "            </tr>\n",
       "            <tr>\n",
       "                        <th id=\"T_2dad7_level0_row7\" class=\"row_heading level0 row7\" >(179844.0, 214604.0]</th>\n",
       "                        <td id=\"T_2dad7_row7_col0\" class=\"data row7 col0\" >2133.000</td>\n",
       "                        <td id=\"T_2dad7_row7_col1\" class=\"data row7 col1\" >179.000</td>\n",
       "                        <td id=\"T_2dad7_row7_col2\" class=\"data row7 col2\" >0.084</td>\n",
       "            </tr>\n",
       "            <tr>\n",
       "                        <th id=\"T_2dad7_level0_row8\" class=\"row_heading level0 row8\" >(214604.0, 269801.0]</th>\n",
       "                        <td id=\"T_2dad7_row8_col0\" class=\"data row8 col0\" >2133.000</td>\n",
       "                        <td id=\"T_2dad7_row8_col1\" class=\"data row8 col1\" >148.000</td>\n",
       "                        <td id=\"T_2dad7_row8_col2\" class=\"data row8 col2\" >0.069</td>\n",
       "            </tr>\n",
       "            <tr>\n",
       "                        <th id=\"T_2dad7_level0_row9\" class=\"row_heading level0 row9\" >(269801.0, 2265604.0]</th>\n",
       "                        <td id=\"T_2dad7_row9_col0\" class=\"data row9 col0\" >2133.000</td>\n",
       "                        <td id=\"T_2dad7_row9_col1\" class=\"data row9 col1\" >151.000</td>\n",
       "                        <td id=\"T_2dad7_row9_col2\" class=\"data row9 col2\" >0.071</td>\n",
       "            </tr>\n",
       "    </tbody></table>"
      ],
      "text/plain": [
       "<pandas.io.formats.style.Styler at 0x7f8700cc3e80>"
      ]
     },
     "metadata": {},
     "output_type": "display_data"
    }
   ],
   "source": [
    "temp = data.copy()\n",
    "start, stop = 3, 10\n",
    "while start <= stop:\n",
    "    temp['new_category'] = pd.qcut(temp['total_income'], q=start, precision=0)\n",
    "    que('new_category')\n",
    "    start += 1"
   ]
  },
  {
   "cell_type": "markdown",
   "id": "44ab77da",
   "metadata": {},
   "source": [
    "<font color='Blue'><b> Выводы:    \n",
    "    •\tразделив наш диапазон на 10 частей с равным количеством заемщиков, мы обнаружили, что кредиторы с доходом от 132 т.р. до 142 т.р. являются группой с самым высокой долей задержек по выплатам за кредит;   \n",
    "    •   а заемщики с самым низким доходом (менее 83 т.р.) и с самы высоким (более 195 т.р.) имеют минимальную долю задержек;   \n",
    "    •   при этом подмечено, что с увеличением уровня доходов заемщиков, уменьшается среди них доля не надежных клиентов банка;  \n",
    "    •   при этом также подмечено, что с уменьшением уровня доходов заемщиков, уменьшается среди них также доля не надежных клиентов банка;  \n",
    "    •   таким образом выяснилось, что самые бедные и самые богатые заемщики являются самыми надежными.\n",
    "    </b></font>\n",
    " </b></font>"
   ]
  },
  {
   "cell_type": "markdown",
   "id": "63dc7b56",
   "metadata": {},
   "source": [
    "#### 3.4 Как разные цели кредита влияют на его возврат в срок?"
   ]
  },
  {
   "cell_type": "markdown",
   "id": "b1602edc",
   "metadata": {},
   "source": [
    "<font color='Blue'><b> **Исследуем зависимость между разными целями взятия кредита и его возвратом в срок.** </b></font>"
   ]
  },
  {
   "cell_type": "code",
   "execution_count": 28,
   "id": "c77aa816",
   "metadata": {},
   "outputs": [
    {
     "data": {
      "text/html": [
       "<style  type=\"text/css\" >\n",
       "#T_2417a_row0_col0{\n",
       "            background-color:  #caddf0;\n",
       "            color:  #000000;\n",
       "        }#T_2417a_row0_col1{\n",
       "            background-color:  #a1cbe2;\n",
       "            color:  #000000;\n",
       "        }#T_2417a_row0_col2,#T_2417a_row1_col0,#T_2417a_row1_col1{\n",
       "            background-color:  #08306b;\n",
       "            color:  #f1f1f1;\n",
       "        }#T_2417a_row1_col2,#T_2417a_row3_col0,#T_2417a_row3_col1{\n",
       "            background-color:  #f7fbff;\n",
       "            color:  #000000;\n",
       "        }#T_2417a_row2_col0{\n",
       "            background-color:  #d0e2f2;\n",
       "            color:  #000000;\n",
       "        }#T_2417a_row2_col1{\n",
       "            background-color:  #b3d3e8;\n",
       "            color:  #000000;\n",
       "        }#T_2417a_row2_col2{\n",
       "            background-color:  #083b7c;\n",
       "            color:  #f1f1f1;\n",
       "        }#T_2417a_row3_col2{\n",
       "            background-color:  #b2d2e8;\n",
       "            color:  #000000;\n",
       "        }</style><table id=\"T_2417a_\" ><thead>    <tr>        <th class=\"blank level0\" ></th>        <th class=\"col_heading level0 col0\" >Всего заемщиков</th>        <th class=\"col_heading level0 col1\" >Всего должников</th>        <th class=\"col_heading level0 col2\" >Доля должников</th>    </tr>    <tr>        <th class=\"index_name level0\" >purpose_category</th>        <th class=\"blank\" ></th>        <th class=\"blank\" ></th>        <th class=\"blank\" ></th>    </tr></thead><tbody>\n",
       "                <tr>\n",
       "                        <th id=\"T_2417a_level0_row0\" class=\"row_heading level0 row0\" >операции с автомобилем</th>\n",
       "                        <td id=\"T_2417a_row0_col0\" class=\"data row0 col0\" >4279.000</td>\n",
       "                        <td id=\"T_2417a_row0_col1\" class=\"data row0 col1\" >400.000</td>\n",
       "                        <td id=\"T_2417a_row0_col2\" class=\"data row0 col2\" >0.093</td>\n",
       "            </tr>\n",
       "            <tr>\n",
       "                        <th id=\"T_2417a_level0_row1\" class=\"row_heading level0 row1\" >операции с недвижимостью</th>\n",
       "                        <td id=\"T_2417a_row1_col0\" class=\"data row1 col0\" >10751.000</td>\n",
       "                        <td id=\"T_2417a_row1_col1\" class=\"data row1 col1\" >780.000</td>\n",
       "                        <td id=\"T_2417a_row1_col2\" class=\"data row1 col2\" >0.073</td>\n",
       "            </tr>\n",
       "            <tr>\n",
       "                        <th id=\"T_2417a_level0_row2\" class=\"row_heading level0 row2\" >получение образования</th>\n",
       "                        <td id=\"T_2417a_row2_col0\" class=\"data row2 col0\" >3988.000</td>\n",
       "                        <td id=\"T_2417a_row2_col1\" class=\"data row2 col1\" >369.000</td>\n",
       "                        <td id=\"T_2417a_row2_col2\" class=\"data row2 col2\" >0.093</td>\n",
       "            </tr>\n",
       "            <tr>\n",
       "                        <th id=\"T_2417a_level0_row3\" class=\"row_heading level0 row3\" >проведение свадьбы</th>\n",
       "                        <td id=\"T_2417a_row3_col0\" class=\"data row3 col0\" >2313.000</td>\n",
       "                        <td id=\"T_2417a_row3_col1\" class=\"data row3 col1\" >183.000</td>\n",
       "                        <td id=\"T_2417a_row3_col2\" class=\"data row3 col2\" >0.079</td>\n",
       "            </tr>\n",
       "    </tbody></table>"
      ],
      "text/plain": [
       "<pandas.io.formats.style.Styler at 0x7f8708e9cf70>"
      ]
     },
     "metadata": {},
     "output_type": "display_data"
    }
   ],
   "source": [
    "que('purpose_category')"
   ]
  },
  {
   "cell_type": "markdown",
   "id": "71e03f6a",
   "metadata": {},
   "source": [
    "<font color='Blue'><b> Выводы:    \n",
    "    •\tкредиты выданные на покупку автомобиля относятся к самым ненадежным и имеют долю просрочек по кредиту 0.093;   \n",
    "    •   далее к ненадежным заемщикам относятся те, кто берут кредиты на образование с долей просрочки 0.093;   \n",
    "    •   следом по росту надежности следуют заемщики, которые берут кредиты на проведение свадьбы с долей просрочки 0.79;  \n",
    "    •\tнаконец, самые надежные кредиты выданные на покупку недвижимости с долей просрочки 0.073. </b></font>"
   ]
  },
  {
   "cell_type": "markdown",
   "id": "24e74480",
   "metadata": {},
   "source": [
    "#### 3.5 Приведите возможные причины появления пропусков в исходных данных."
   ]
  },
  {
   "cell_type": "markdown",
   "id": "ad0f4026",
   "metadata": {},
   "source": [
    "<font color='Blue'><b>Выводы:    \n",
    "При оформлении кредита, клиенты заполняя заявку, могут некоторые данные о себе не корректно и не разборчиво вводить. А основная масса пропусков связана с пунктом общего трудового стажа в днях (days_employed). Очень сложно и в годах вспомнить и посчитать трудовой стаж. И поэтому в основной массе клиенты не заполняют эти данные. И также значительно превалируют пропуски в графе ежемесячного дохода (total_income).       \n",
    "    Существует несколько причин отсутствия данных в датасетах, в том числе:     \n",
    "    - Человеческий фактор: Ошибки ввода данных, не желание отвечать на определенные вопросы.     \n",
    "    - Технические проблемы: Возможны сбои с оборудованием или программным обеспечением для сбора данных. Отсутствующие данные могут быть удалены в процессе обработки или очистки данных.      \n",
    "    - Организационные: Конфиденциальность, могут отсутствовать данные, идентифицирующие отдельных лиц или компании.   \n",
    "    Рекомендуется внимательней относиться сотрудникам банка для минимизирования появления прорпусков в получаемых данных.\n",
    "    </b></font>"
   ]
  },
  {
   "cell_type": "markdown",
   "id": "7eafa690",
   "metadata": {},
   "source": [
    "#### 3.6 Объясните, почему заполнить пропуски медианным значением — лучшее решение для количественных переменных."
   ]
  },
  {
   "cell_type": "markdown",
   "id": "fb9004e3",
   "metadata": {},
   "source": [
    "<font color='Blue'><b> Выводы:    \n",
    "Медианное значение более эффективно, так как не искажено так сильно из-за небольшой доли чрезвычайно больших или маленьких значений. Поэтому медианное значение может дать лучшее представление о «типичном» значении, как и при возможном наличии пропусков. По этому, среднее значение может быть не совсем объективным при отражении данных. Посчитаем и сравним среднюю и медиану для колонки \"days_employed\" (трудовой стаж).</b></font>"
   ]
  },
  {
   "cell_type": "code",
   "execution_count": 29,
   "id": "332718fd",
   "metadata": {},
   "outputs": [
    {
     "name": "stdout",
     "output_type": "stream",
     "text": [
      "Среднее значение трудового стажа: 1997.0\n",
      "Медианное значение трудового стажа: 67149.0\n"
     ]
    }
   ],
   "source": [
    "print('Среднее значение трудового стажа:', data['days_employed'].median().round())\n",
    "print('Медианное значение трудового стажа:', data['days_employed'].mean().round())"
   ]
  },
  {
   "cell_type": "markdown",
   "id": "e0d566e8",
   "metadata": {},
   "source": [
    "<font color='Blue'><b> Выводы:    \n",
    "Среднее значение значительно ниже медианного. Это вследствии преобладания количества клиентов с минимальным уровнем дохода. Поэтому для нашего исследования медианное значение более достоверно и целесообразно к использованию.</b></font>"
   ]
  },
  {
   "cell_type": "markdown",
   "id": "d4dace55",
   "metadata": {},
   "source": [
    "### Шаг 4: общий вывод."
   ]
  },
  {
   "cell_type": "markdown",
   "id": "c4954acd",
   "metadata": {},
   "source": [
    "<font color='Blue'><b>**В данной работе решалась задача определения доли неблагонадежных должников в зависимости от их принадлежности к различным группам. Изучались зависимости применительно к таким группам как: семейное положение, количество детей в семье, уровень дохода и цели получения кредита. Входные данные от банка — статистика о платёжеспособности клиентов. Результаты исследования будут учтены при построении модели кредитного скоринга — специальной системы, которая оценивает способность потенциального заёмщика вернуть кредит банку.**</b></font>\n",
    "\n",
    "  \n",
    "<font color='Blue' size=+1><b>\n",
    "    Описание переменных: </b></font></b>  \n",
    "children — количество детей в семье  \n",
    "days_employed — общий трудовой стаж в днях  \n",
    "dob_years — возраст клиента в годах  \n",
    "education — уровень образования клиента  \n",
    "education_id — идентификатор уровня образования  \n",
    "family_status — семейное положение  \n",
    "family_status_id — идентификатор семейного положения  \n",
    "gender — пол клиента  \n",
    "income_type — тип занятости  \n",
    "debt — имел ли задолженность по возврату кредитов  \n",
    "total_income — ежемесячный доход  \n",
    "purpose — цель получения кредита  \n",
    "\n",
    " <font color='Blue' size=+1><b>\n",
    "    Были последовательны применены данные методы в работе:</b></font></b>   \n",
    "открыт файл;  \n",
    "файл изучен;  \n",
    "определены пропущенные значения;  \n",
    "заполнены пропущенные значения;  \n",
    "есть пояснение какие пропущенные значения обнаружены;  \n",
    "описаны возможные причины появления пропусков в данных;  \n",
    "объяснено по какому принципу заполнены пропуски;  \n",
    "заменен вещественный тип данных на целочисленный;  \n",
    "есть пояснение какой метод используется для изменения типа данных и почему;  \n",
    "удалены дубликаты;  \n",
    "есть пояснение какой метод используется для поиска и удаления дубликатов;  \n",
    "описаны возможные причины появления дубликатов в данных;  \n",
    "выделены леммы в значениях столбца с целями получения кредита;  \n",
    "описан процесс лемматизации;  \n",
    "данные категоризированы.\n",
    "\n",
    "\n",
    "\n",
    "<font color='Blue' size=+2><b>Общий вывод:</b></font><br>  \n",
    "\n",
    "Основная масса пропусков связана с пунктом общего трудового стажа в днях (days_employed) и уровнем ежемесячного дохода (total_income). Рекомендуется внимательней относиться сотрудникам банка к полному заполнению данных для минимизирования появления прорпусков.\n",
    "\n",
    " <font color='Blue' size=+1><b>    \n",
    "    Исследование зависимости между количеством детей и возвратом кредита в срок показало:</b></font></b>  \n",
    "•\tcамые ненадежные заемщики с самой высокой долей просрочек 9,76% - это многодетные семьи с 4-мя детьми;   \n",
    "•\tсамые надежные заемщики с самой низкой долей просрочек по кредиту 7,54% - это заемщики без детей.      \n",
    "<font color='Blue' size=+1><b>\n",
    "    Исследование зависимости между семейным положением и возвратом кредита в срок показало:</b></font></b>  \n",
    "•\tодинокие заемщики без семьи имеют наибольшую долю просрочек по кредиту 9,76%.   \n",
    "•\tнаименьшая доля просрочек 6,62% по кредиту выявлена у овдовевших супругов.      \n",
    "<font color='Blue' size=+1><b>\n",
    "    Исследование зависимости между уровнем дохода и возвратом кредита в срок показало:</b></font></b>  \n",
    "    •\tразделив наш диапазон на 10 частей с равным количеством заемщиков, мы обнаружили, что кредиторы с доходом от 132 т.р. до 142 т.р. являются с самым высокой долей 9,1% задержек выплатам за кредит;   \n",
    "    •   а заемщики с самым низким доходом (менее 83 т.р.) и с самы высоким (более 195 т.р.) имеют минимальную долю задержек около 7%;   \n",
    "    •   при этом подмечено, что с увеличением уровня доходов заемщиков, уменьшается среди них доля не надежных клиентов банка;  \n",
    "    •   при этом также подмечено, что с уменьшением уровня доходов заемщиков, уменьшается среди них также доля не надежных клиентов банка;  \n",
    "    •   таким образом выяснилось, что самые бедные и самые богатые заемщики являются самыми надежными.      \n",
    "<font color='Blue' size=+1><b>\n",
    "    Исследование зависимости между целями кредита и возвратом кредита в срок показало:</b></font></b>  \n",
    "•\tсамые ненадежные заемщики те, кто берут кредиты на покупку автомобиля (доля просрочки 9,34%) и на образование (9,25%);   \n",
    "•\tдалее по росту надежности следуют заемщики, которые берут кредиты на проведение свадьбы с долей просрочек 7,91%;    \n",
    "•\tсамые надежные заемщики - те, кто берут кредиты на операции с недвижимостью с долей просрочек 7,25%.      \n",
    "<font color='Blue' size=+1><b>Идеальные заемщики для банка при рассмотрении заявки на кредиты - это:</b></font></b>  \n",
    "•\tжелающие взять ипотечный кредит (не автокредит, не кредит на образование и не на свадьбы);    \n",
    "•\tсемейные люди без детей или вдовец/вдова;   \n",
    "•\tс уровнем дохода менее 50 т.р. и с доходом более 200 т.р.</b></font>"
   ]
  }
 ],
 "metadata": {
  "ExecuteTimeLog": [
   {
    "duration": 70,
    "start_time": "2024-03-27T16:37:25.101Z"
   },
   {
    "duration": 435,
    "start_time": "2024-03-27T16:37:52.362Z"
   },
   {
    "duration": 19,
    "start_time": "2024-03-27T16:38:32.369Z"
   },
   {
    "duration": 14,
    "start_time": "2024-03-27T16:39:15.103Z"
   },
   {
    "duration": 15,
    "start_time": "2024-03-27T16:40:49.318Z"
   },
   {
    "duration": 33,
    "start_time": "2024-03-27T16:42:08.140Z"
   },
   {
    "duration": 3,
    "start_time": "2024-03-27T16:43:17.573Z"
   },
   {
    "duration": 503,
    "start_time": "2024-03-27T16:43:34.136Z"
   },
   {
    "duration": 20,
    "start_time": "2024-03-27T16:43:34.641Z"
   },
   {
    "duration": 26,
    "start_time": "2024-03-27T16:43:34.663Z"
   },
   {
    "duration": 23,
    "start_time": "2024-03-27T16:43:34.691Z"
   },
   {
    "duration": 38,
    "start_time": "2024-03-27T16:43:34.716Z"
   },
   {
    "duration": 4,
    "start_time": "2024-03-27T16:43:34.755Z"
   },
   {
    "duration": 7,
    "start_time": "2024-03-27T16:44:29.274Z"
   },
   {
    "duration": 4,
    "start_time": "2024-03-27T16:45:40.994Z"
   },
   {
    "duration": 7,
    "start_time": "2024-03-27T16:46:19.027Z"
   },
   {
    "duration": 4,
    "start_time": "2024-03-27T16:46:50.366Z"
   },
   {
    "duration": 33,
    "start_time": "2024-03-27T16:48:00.981Z"
   },
   {
    "duration": 403,
    "start_time": "2024-03-27T16:48:48.004Z"
   },
   {
    "duration": 20,
    "start_time": "2024-03-27T16:48:48.409Z"
   },
   {
    "duration": 46,
    "start_time": "2024-03-27T16:48:48.430Z"
   },
   {
    "duration": 30,
    "start_time": "2024-03-27T16:48:48.478Z"
   },
   {
    "duration": 40,
    "start_time": "2024-03-27T16:48:48.510Z"
   },
   {
    "duration": 4,
    "start_time": "2024-03-27T16:48:48.551Z"
   },
   {
    "duration": 41,
    "start_time": "2024-03-27T16:48:48.556Z"
   },
   {
    "duration": 21,
    "start_time": "2024-03-27T16:48:48.598Z"
   },
   {
    "duration": 23,
    "start_time": "2024-03-27T16:48:48.621Z"
   },
   {
    "duration": 14,
    "start_time": "2024-03-27T16:48:48.646Z"
   },
   {
    "duration": 66,
    "start_time": "2024-03-27T16:48:48.662Z"
   },
   {
    "duration": 11,
    "start_time": "2024-03-27T16:48:48.729Z"
   },
   {
    "duration": 3,
    "start_time": "2024-03-27T16:50:04.989Z"
   },
   {
    "duration": 11,
    "start_time": "2024-03-27T16:51:43.337Z"
   },
   {
    "duration": 17,
    "start_time": "2024-03-27T16:52:57.986Z"
   },
   {
    "duration": 15,
    "start_time": "2024-03-27T16:53:12.686Z"
   },
   {
    "duration": 3,
    "start_time": "2024-03-27T16:54:23.830Z"
   },
   {
    "duration": 11,
    "start_time": "2024-03-27T16:54:36.859Z"
   },
   {
    "duration": 5,
    "start_time": "2024-03-27T16:56:27.012Z"
   },
   {
    "duration": 3,
    "start_time": "2024-03-27T16:57:25.013Z"
   },
   {
    "duration": 8,
    "start_time": "2024-03-27T16:59:00.533Z"
   },
   {
    "duration": 649,
    "start_time": "2024-03-27T17:09:36.208Z"
   },
   {
    "duration": 113,
    "start_time": "2024-03-27T17:14:55.235Z"
   },
   {
    "duration": 67,
    "start_time": "2024-03-27T17:16:27.703Z"
   },
   {
    "duration": 28,
    "start_time": "2024-03-27T17:18:14.110Z"
   },
   {
    "duration": 28,
    "start_time": "2024-03-27T17:19:41.670Z"
   },
   {
    "duration": 315,
    "start_time": "2024-03-27T17:20:36.710Z"
   },
   {
    "duration": 39,
    "start_time": "2024-03-27T17:22:02.373Z"
   },
   {
    "duration": 5,
    "start_time": "2024-03-27T17:32:42.574Z"
   },
   {
    "duration": 64,
    "start_time": "2024-03-27T17:34:02.102Z"
   },
   {
    "duration": 455,
    "start_time": "2024-03-27T17:34:38.013Z"
   },
   {
    "duration": 19,
    "start_time": "2024-03-27T17:34:38.470Z"
   },
   {
    "duration": 14,
    "start_time": "2024-03-27T17:34:38.490Z"
   },
   {
    "duration": 9,
    "start_time": "2024-03-27T17:34:38.505Z"
   },
   {
    "duration": 50,
    "start_time": "2024-03-27T17:34:38.516Z"
   },
   {
    "duration": 3,
    "start_time": "2024-03-27T17:34:38.568Z"
   },
   {
    "duration": 7,
    "start_time": "2024-03-27T17:34:38.573Z"
   },
   {
    "duration": 8,
    "start_time": "2024-03-27T17:34:38.582Z"
   },
   {
    "duration": 8,
    "start_time": "2024-03-27T17:34:38.591Z"
   },
   {
    "duration": 4,
    "start_time": "2024-03-27T17:34:38.600Z"
   },
   {
    "duration": 55,
    "start_time": "2024-03-27T17:34:38.605Z"
   },
   {
    "duration": 9,
    "start_time": "2024-03-27T17:34:38.662Z"
   },
   {
    "duration": 3,
    "start_time": "2024-03-27T17:34:38.672Z"
   },
   {
    "duration": 13,
    "start_time": "2024-03-27T17:34:38.677Z"
   },
   {
    "duration": 18,
    "start_time": "2024-03-27T17:34:38.691Z"
   },
   {
    "duration": 35,
    "start_time": "2024-03-27T17:34:38.710Z"
   },
   {
    "duration": 4,
    "start_time": "2024-03-27T17:34:38.746Z"
   },
   {
    "duration": 20,
    "start_time": "2024-03-27T17:34:38.751Z"
   },
   {
    "duration": 11,
    "start_time": "2024-03-27T17:34:38.772Z"
   },
   {
    "duration": 3,
    "start_time": "2024-03-27T17:34:38.784Z"
   },
   {
    "duration": 10,
    "start_time": "2024-03-27T17:34:38.789Z"
   },
   {
    "duration": 672,
    "start_time": "2024-03-27T17:34:38.800Z"
   },
   {
    "duration": 120,
    "start_time": "2024-03-27T17:34:39.475Z"
   },
   {
    "duration": 69,
    "start_time": "2024-03-27T17:34:39.597Z"
   },
   {
    "duration": 26,
    "start_time": "2024-03-27T17:34:39.667Z"
   },
   {
    "duration": 26,
    "start_time": "2024-03-27T17:34:39.695Z"
   },
   {
    "duration": 283,
    "start_time": "2024-03-27T17:34:39.722Z"
   },
   {
    "duration": 50,
    "start_time": "2024-03-27T17:34:40.007Z"
   },
   {
    "duration": 5,
    "start_time": "2024-03-27T17:34:40.059Z"
   }
  ],
  "kernelspec": {
   "display_name": "Python 3 (ipykernel)",
   "language": "python",
   "name": "python3"
  },
  "language_info": {
   "codemirror_mode": {
    "name": "ipython",
    "version": 3
   },
   "file_extension": ".py",
   "mimetype": "text/x-python",
   "name": "python",
   "nbconvert_exporter": "python",
   "pygments_lexer": "ipython3",
   "version": "3.9.5"
  },
  "toc": {
   "base_numbering": 1,
   "nav_menu": {},
   "number_sections": true,
   "sideBar": true,
   "skip_h1_title": true,
   "title_cell": "Table of Contents",
   "title_sidebar": "Contents",
   "toc_cell": false,
   "toc_position": {},
   "toc_section_display": true,
   "toc_window_display": false
  }
 },
 "nbformat": 4,
 "nbformat_minor": 5
}
